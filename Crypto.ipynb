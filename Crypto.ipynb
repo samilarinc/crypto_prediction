{
  "nbformat": 4,
  "nbformat_minor": 0,
  "metadata": {
    "kernelspec": {
      "display_name": "Python 3",
      "language": "python",
      "name": "python3"
    },
    "language_info": {
      "codemirror_mode": {
        "name": "ipython",
        "version": 3
      },
      "file_extension": ".py",
      "mimetype": "text/x-python",
      "name": "python",
      "nbconvert_exporter": "python",
      "pygments_lexer": "ipython3",
      "version": "3.8.3"
    },
    "colab": {
      "name": "Crypto.ipynb adlı not defterinin kopyası",
      "provenance": [],
      "collapsed_sections": [],
      "include_colab_link": true
    }
  },
  "cells": [
    {
      "cell_type": "markdown",
      "metadata": {
        "id": "view-in-github",
        "colab_type": "text"
      },
      "source": [
        "<a href=\"https://colab.research.google.com/github/samilarinc/crypto_prediction/blob/master/Crypto.ipynb\" target=\"_parent\"><img src=\"https://colab.research.google.com/assets/colab-badge.svg\" alt=\"Open In Colab\"/></a>"
      ]
    },
    {
      "cell_type": "code",
      "metadata": {
        "id": "6Ocir13vjzVQ"
      },
      "source": [
        "import numpy as np\n",
        "import pandas as pd\n",
        "import matplotlib.pyplot as plt\n",
        "from scipy.spatial.distance import euclidean\n",
        "from scipy import signal\n",
        "import pandas_datareader as web\n",
        "import datetime as dt\n",
        "\n",
        "import sklearn.model_selection\n",
        "\n",
        "import random"
      ],
      "execution_count": 2,
      "outputs": []
    },
    {
      "cell_type": "code",
      "metadata": {
        "id": "DQbjpHy8jzVV"
      },
      "source": [
        "crypto_currency = 'BTC'\n",
        "against_currency = 'USD'\n",
        "\n",
        "start = dt.datetime(2016,1,1)\n",
        "end = dt.datetime.now()"
      ],
      "execution_count": 3,
      "outputs": []
    },
    {
      "cell_type": "code",
      "metadata": {
        "id": "wgm5tp2AkbFh"
      },
      "source": [
        "!pip install --upgrade pandas\n",
        "!pip install --upgrade pandas-datareader"
      ],
      "execution_count": null,
      "outputs": []
    },
    {
      "cell_type": "code",
      "metadata": {
        "id": "pzkyAN57jzVW"
      },
      "source": [
        "data = web.DataReader(f'{crypto_currency}-{against_currency}', 'yahoo', start, end)"
      ],
      "execution_count": 4,
      "outputs": []
    },
    {
      "cell_type": "code",
      "metadata": {
        "id": "3qvAoZi6jzVX",
        "colab": {
          "base_uri": "https://localhost:8080/"
        },
        "outputId": "f142f594-ec98-47a3-c659-ec2e949e8be7"
      },
      "source": [
        "data.keys()"
      ],
      "execution_count": 5,
      "outputs": [
        {
          "output_type": "execute_result",
          "data": {
            "text/plain": [
              "Index(['High', 'Low', 'Open', 'Close', 'Volume', 'Adj Close'], dtype='object')"
            ]
          },
          "metadata": {},
          "execution_count": 5
        }
      ]
    },
    {
      "cell_type": "code",
      "metadata": {
        "id": "cMzce906jzVY"
      },
      "source": [
        "length = len(data['High'])"
      ],
      "execution_count": 6,
      "outputs": []
    },
    {
      "cell_type": "code",
      "metadata": {
        "id": "OO4G8fMGjzVZ"
      },
      "source": [
        "my_arr = list()\n",
        "for i in range(length):\n",
        "    my_arr.append(i)\n",
        "    "
      ],
      "execution_count": 7,
      "outputs": []
    },
    {
      "cell_type": "code",
      "metadata": {
        "id": "_4GIWxzljzVZ",
        "colab": {
          "base_uri": "https://localhost:8080/",
          "height": 450
        },
        "outputId": "af823823-24c7-4cd9-ecd3-f437d3564664"
      },
      "source": [
        "data"
      ],
      "execution_count": 8,
      "outputs": [
        {
          "output_type": "execute_result",
          "data": {
            "text/html": [
              "<div>\n",
              "<style scoped>\n",
              "    .dataframe tbody tr th:only-of-type {\n",
              "        vertical-align: middle;\n",
              "    }\n",
              "\n",
              "    .dataframe tbody tr th {\n",
              "        vertical-align: top;\n",
              "    }\n",
              "\n",
              "    .dataframe thead th {\n",
              "        text-align: right;\n",
              "    }\n",
              "</style>\n",
              "<table border=\"1\" class=\"dataframe\">\n",
              "  <thead>\n",
              "    <tr style=\"text-align: right;\">\n",
              "      <th></th>\n",
              "      <th>High</th>\n",
              "      <th>Low</th>\n",
              "      <th>Open</th>\n",
              "      <th>Close</th>\n",
              "      <th>Volume</th>\n",
              "      <th>Adj Close</th>\n",
              "    </tr>\n",
              "    <tr>\n",
              "      <th>Date</th>\n",
              "      <th></th>\n",
              "      <th></th>\n",
              "      <th></th>\n",
              "      <th></th>\n",
              "      <th></th>\n",
              "      <th></th>\n",
              "    </tr>\n",
              "  </thead>\n",
              "  <tbody>\n",
              "    <tr>\n",
              "      <th>2016-01-01</th>\n",
              "      <td>436.246002</td>\n",
              "      <td>427.515015</td>\n",
              "      <td>430.721008</td>\n",
              "      <td>434.334015</td>\n",
              "      <td>3.627890e+07</td>\n",
              "      <td>434.334015</td>\n",
              "    </tr>\n",
              "    <tr>\n",
              "      <th>2016-01-02</th>\n",
              "      <td>436.062012</td>\n",
              "      <td>431.869995</td>\n",
              "      <td>434.622009</td>\n",
              "      <td>433.437988</td>\n",
              "      <td>3.009660e+07</td>\n",
              "      <td>433.437988</td>\n",
              "    </tr>\n",
              "    <tr>\n",
              "      <th>2016-01-03</th>\n",
              "      <td>433.743011</td>\n",
              "      <td>424.705994</td>\n",
              "      <td>433.578003</td>\n",
              "      <td>430.010986</td>\n",
              "      <td>3.963380e+07</td>\n",
              "      <td>430.010986</td>\n",
              "    </tr>\n",
              "    <tr>\n",
              "      <th>2016-01-04</th>\n",
              "      <td>434.516998</td>\n",
              "      <td>429.084015</td>\n",
              "      <td>430.061005</td>\n",
              "      <td>433.091003</td>\n",
              "      <td>3.847750e+07</td>\n",
              "      <td>433.091003</td>\n",
              "    </tr>\n",
              "    <tr>\n",
              "      <th>2016-01-05</th>\n",
              "      <td>434.182007</td>\n",
              "      <td>429.675995</td>\n",
              "      <td>433.069000</td>\n",
              "      <td>431.959991</td>\n",
              "      <td>3.452260e+07</td>\n",
              "      <td>431.959991</td>\n",
              "    </tr>\n",
              "    <tr>\n",
              "      <th>...</th>\n",
              "      <td>...</td>\n",
              "      <td>...</td>\n",
              "      <td>...</td>\n",
              "      <td>...</td>\n",
              "      <td>...</td>\n",
              "      <td>...</td>\n",
              "    </tr>\n",
              "    <tr>\n",
              "      <th>2021-09-04</th>\n",
              "      <td>51868.679688</td>\n",
              "      <td>49538.597656</td>\n",
              "      <td>49937.859375</td>\n",
              "      <td>51753.410156</td>\n",
              "      <td>3.032268e+10</td>\n",
              "      <td>51753.410156</td>\n",
              "    </tr>\n",
              "    <tr>\n",
              "      <th>2021-09-05</th>\n",
              "      <td>52700.941406</td>\n",
              "      <td>51053.679688</td>\n",
              "      <td>51769.003906</td>\n",
              "      <td>52633.535156</td>\n",
              "      <td>3.888411e+10</td>\n",
              "      <td>52633.535156</td>\n",
              "    </tr>\n",
              "    <tr>\n",
              "      <th>2021-09-06</th>\n",
              "      <td>52853.765625</td>\n",
              "      <td>43285.207031</td>\n",
              "      <td>52660.480469</td>\n",
              "      <td>46811.128906</td>\n",
              "      <td>6.521006e+10</td>\n",
              "      <td>46811.128906</td>\n",
              "    </tr>\n",
              "    <tr>\n",
              "      <th>2021-09-07</th>\n",
              "      <td>47334.054688</td>\n",
              "      <td>44561.394531</td>\n",
              "      <td>46827.761719</td>\n",
              "      <td>46091.390625</td>\n",
              "      <td>4.900776e+10</td>\n",
              "      <td>46091.390625</td>\n",
              "    </tr>\n",
              "    <tr>\n",
              "      <th>2021-09-09</th>\n",
              "      <td>47217.851562</td>\n",
              "      <td>44215.949219</td>\n",
              "      <td>46156.343750</td>\n",
              "      <td>46465.503906</td>\n",
              "      <td>3.971625e+10</td>\n",
              "      <td>46465.503906</td>\n",
              "    </tr>\n",
              "  </tbody>\n",
              "</table>\n",
              "<p>2075 rows × 6 columns</p>\n",
              "</div>"
            ],
            "text/plain": [
              "                    High           Low  ...        Volume     Adj Close\n",
              "Date                                    ...                            \n",
              "2016-01-01    436.246002    427.515015  ...  3.627890e+07    434.334015\n",
              "2016-01-02    436.062012    431.869995  ...  3.009660e+07    433.437988\n",
              "2016-01-03    433.743011    424.705994  ...  3.963380e+07    430.010986\n",
              "2016-01-04    434.516998    429.084015  ...  3.847750e+07    433.091003\n",
              "2016-01-05    434.182007    429.675995  ...  3.452260e+07    431.959991\n",
              "...                  ...           ...  ...           ...           ...\n",
              "2021-09-04  51868.679688  49538.597656  ...  3.032268e+10  51753.410156\n",
              "2021-09-05  52700.941406  51053.679688  ...  3.888411e+10  52633.535156\n",
              "2021-09-06  52853.765625  43285.207031  ...  6.521006e+10  46811.128906\n",
              "2021-09-07  47334.054688  44561.394531  ...  4.900776e+10  46091.390625\n",
              "2021-09-09  47217.851562  44215.949219  ...  3.971625e+10  46465.503906\n",
              "\n",
              "[2075 rows x 6 columns]"
            ]
          },
          "metadata": {},
          "execution_count": 8
        }
      ]
    },
    {
      "cell_type": "code",
      "metadata": {
        "id": "6NZIoMenjzVa"
      },
      "source": [
        "data.drop_duplicates(inplace=True)"
      ],
      "execution_count": 9,
      "outputs": []
    },
    {
      "cell_type": "code",
      "metadata": {
        "id": "SnbDz7ILjzVb"
      },
      "source": [
        "data.index = my_arr"
      ],
      "execution_count": 10,
      "outputs": []
    },
    {
      "cell_type": "code",
      "metadata": {
        "id": "psFHmCmzjzVc"
      },
      "source": [
        "prev_days = 60"
      ],
      "execution_count": 11,
      "outputs": []
    },
    {
      "cell_type": "code",
      "metadata": {
        "id": "hKWC14sBjzVc"
      },
      "source": [
        "rand= np.random.randint(500,1000)"
      ],
      "execution_count": 12,
      "outputs": []
    },
    {
      "cell_type": "code",
      "metadata": {
        "id": "HhkvfgPzjzVd"
      },
      "source": [
        "random.seed(77)\n",
        "array = list()\n",
        "for i in range(300):\n",
        "    temp = random.random()\n",
        "    array.append(int(temp*1000))"
      ],
      "execution_count": 13,
      "outputs": []
    },
    {
      "cell_type": "code",
      "metadata": {
        "collapsed": true,
        "id": "m97klaTgjzVd"
      },
      "source": [
        "array"
      ],
      "execution_count": null,
      "outputs": []
    },
    {
      "cell_type": "code",
      "metadata": {
        "id": "f-yfFienjzVe"
      },
      "source": [
        "train_X_dict = dict()\n",
        "for i in array:\n",
        "    train_X_dict[i] = data[i-60:i].values\n",
        "    \n",
        "    "
      ],
      "execution_count": 15,
      "outputs": []
    },
    {
      "cell_type": "code",
      "metadata": {
        "id": "cU6w1DOijzVe"
      },
      "source": [
        "train_X_dict[799]"
      ],
      "execution_count": null,
      "outputs": []
    },
    {
      "cell_type": "code",
      "metadata": {
        "id": "khEB0i6tjzVe",
        "colab": {
          "base_uri": "https://localhost:8080/"
        },
        "outputId": "347114db-c698-412a-ba20-8cbbf0f14fa2"
      },
      "source": [
        " train_X_dict.keys()"
      ],
      "execution_count": null,
      "outputs": [
        {
          "output_type": "execute_result",
          "data": {
            "text/plain": [
              "dict_keys([799, 325, 240, 822, 115, 476, 557, 611, 145, 630, 500, 851, 28, 957, 172, 813, 507, 835, 182, 321, 87, 778, 533, 204, 191, 80, 200, 560, 437, 704, 76, 839, 982, 739, 743, 849, 94, 461, 79, 781, 537, 106, 444, 776, 552, 121, 936, 56, 843, 974, 751, 945, 530, 219, 472, 738, 768, 384, 947, 35, 495, 39, 358, 989, 117, 985, 905, 688, 55, 471, 691, 95, 298, 91, 915, 923, 750, 575, 62, 481, 760, 755, 26, 8, 88, 924, 113, 390, 475, 883, 135, 261, 771, 85, 164, 25, 958, 233, 501, 379, 981, 712, 601, 489, 267, 103, 621, 295, 276, 453, 189, 591, 70, 18, 141, 89, 878, 510, 678, 779, 165, 951, 460, 488, 695, 193, 828, 428, 251, 864, 872, 858, 323, 913, 775, 970, 754, 999, 478, 749, 524, 504, 400, 868, 378, 746, 561, 706, 309, 78, 675, 359, 48, 911, 588, 677, 22, 720, 586, 639, 823, 270, 160, 968, 60, 515, 623, 955, 86, 702, 620, 848, 47, 748, 148, 404, 850, 4, 31, 780, 38, 784, 807, 817, 633, 824, 542, 668, 69, 550, 990, 388, 714, 178, 541, 769, 322, 468, 577, 939, 386, 659, 556, 195, 696, 211, 613, 994, 306, 339, 644, 213, 354, 225, 158, 670, 831, 526, 446, 302, 239, 942, 479, 681, 279, 173, 9, 419, 521, 616, 876, 801, 687, 804, 893, 385, 867, 429, 24, 594, 946, 438, 870, 680, 20, 330, 971, 656, 597, 859, 350, 146, 445, 908, 492, 294, 357, 92, 907, 255, 789, 426, 509, 431, 638, 933, 482])"
            ]
          },
          "metadata": {},
          "execution_count": 69
        }
      ]
    },
    {
      "cell_type": "code",
      "metadata": {
        "id": "qMylz2NYjzVf"
      },
      "source": [
        "train_Y_dict = dict()\n",
        "for i in array:\n",
        "    train_Y_dict[i] = data['Close'][i]"
      ],
      "execution_count": 18,
      "outputs": []
    },
    {
      "cell_type": "code",
      "metadata": {
        "id": "CU8ngh52jzVf",
        "colab": {
          "base_uri": "https://localhost:8080/"
        },
        "outputId": "b251e79e-73a8-4281-bc6c-d5aa60ef8977"
      },
      "source": [
        "train_Y_dict[799]"
      ],
      "execution_count": 19,
      "outputs": [
        {
          "output_type": "execute_result",
          "data": {
            "text/plain": [
              "8866.0"
            ]
          },
          "metadata": {},
          "execution_count": 19
        }
      ]
    },
    {
      "cell_type": "code",
      "metadata": {
        "id": "9FPo3gosjzVf"
      },
      "source": [
        "train_X = list()\n",
        "for i in train_X_dict.keys():\n",
        "    train_X.append(train_X_dict[i])\n",
        "    "
      ],
      "execution_count": 20,
      "outputs": []
    },
    {
      "cell_type": "code",
      "metadata": {
        "id": "2CLxp7eDjzVg"
      },
      "source": [
        "train_Y = list()\n",
        "for i in train_Y_dict.keys():\n",
        "    train_Y.append(train_Y_dict[i])"
      ],
      "execution_count": 21,
      "outputs": []
    },
    {
      "cell_type": "code",
      "metadata": {
        "id": "74IixDkFjzVg"
      },
      "source": [
        "x = list(train_X)"
      ],
      "execution_count": 22,
      "outputs": []
    },
    {
      "cell_type": "code",
      "metadata": {
        "id": "iVT6sJMtjzVg"
      },
      "source": [
        "X_list = list()\n",
        "for i in train_X:\n",
        "    temp_list = list()\n",
        "    for j in i:\n",
        "        temp_list.extend(tuple(j))\n",
        "    X_list.append(temp_list)\n",
        "    \n",
        "        \n",
        "    "
      ],
      "execution_count": 23,
      "outputs": []
    },
    {
      "cell_type": "code",
      "metadata": {
        "id": "NBrYHFP-jzVh",
        "colab": {
          "base_uri": "https://localhost:8080/"
        },
        "outputId": "ce5fb0c3-04cc-42aa-db2a-cf8d85b596f0"
      },
      "source": [
        "len(X_list[0])"
      ],
      "execution_count": 24,
      "outputs": [
        {
          "output_type": "execute_result",
          "data": {
            "text/plain": [
              "360"
            ]
          },
          "metadata": {},
          "execution_count": 24
        }
      ]
    },
    {
      "cell_type": "code",
      "metadata": {
        "id": "6WMa7JVrjzVh"
      },
      "source": [
        "X_list[0]"
      ],
      "execution_count": null,
      "outputs": []
    },
    {
      "cell_type": "code",
      "metadata": {
        "id": "u_906PfAjzVh",
        "colab": {
          "base_uri": "https://localhost:8080/"
        },
        "outputId": "09396aca-74e6-4077-d8ea-f3588fc1588d"
      },
      "source": [
        "train_Y[-1]"
      ],
      "execution_count": 28,
      "outputs": [
        {
          "output_type": "execute_result",
          "data": {
            "text/plain": [
              "1317.72998046875"
            ]
          },
          "metadata": {},
          "execution_count": 28
        }
      ]
    },
    {
      "cell_type": "code",
      "metadata": {
        "id": "-i9BIoEnjzVi",
        "colab": {
          "base_uri": "https://localhost:8080/"
        },
        "outputId": "54e279a3-408c-4fd4-b5d9-320aa29668b2"
      },
      "source": [
        "len(X_list[0])"
      ],
      "execution_count": 29,
      "outputs": [
        {
          "output_type": "execute_result",
          "data": {
            "text/plain": [
              "360"
            ]
          },
          "metadata": {},
          "execution_count": 29
        }
      ]
    },
    {
      "cell_type": "code",
      "metadata": {
        "id": "3iiJMY-0jzVi",
        "colab": {
          "base_uri": "https://localhost:8080/"
        },
        "outputId": "0746bebb-317e-4b0e-c384-2ebc2af28058"
      },
      "source": [
        "len(train_Y)"
      ],
      "execution_count": 30,
      "outputs": [
        {
          "output_type": "execute_result",
          "data": {
            "text/plain": [
              "267"
            ]
          },
          "metadata": {},
          "execution_count": 30
        }
      ]
    },
    {
      "cell_type": "code",
      "metadata": {
        "id": "NfQEbE5vjzVi"
      },
      "source": [
        "my_list = []\n",
        "for i in range(len(X_list)):\n",
        "    if not(len(X_list[i]) == 0) :\n",
        "        my_list.append(X_list[i])\n",
        "    else:\n",
        "        train_Y.pop(i)\n",
        "\n",
        "        \n",
        "    "
      ],
      "execution_count": 31,
      "outputs": []
    },
    {
      "cell_type": "code",
      "metadata": {
        "id": "vRkpFwETjzVi"
      },
      "source": [
        "from xgboost import XGBRegressor"
      ],
      "execution_count": 33,
      "outputs": []
    },
    {
      "cell_type": "code",
      "metadata": {
        "id": "qoIngB68gu1s"
      },
      "source": [
        "from keras.models import Sequential\n",
        "from keras.layers import LSTM, Dropout, Dense\n",
        "model = Sequential()\n",
        "model.add(LSTM(units=50, return_sequences=True))\n",
        "model.add(LSTM(units=50))\n",
        "model.add(Dense(1))"
      ],
      "execution_count": 70,
      "outputs": []
    },
    {
      "cell_type": "code",
      "metadata": {
        "id": "k4vLtFOQmtDn"
      },
      "source": [
        "model.compile(loss='mean_squared_error',optimizer='adam')"
      ],
      "execution_count": 71,
      "outputs": []
    },
    {
      "cell_type": "code",
      "metadata": {
        "id": "Vg6xwRqxmtMj",
        "outputId": "17aabbe7-4883-4d71-f54a-1c1c52b8f18b",
        "colab": {
          "base_uri": "https://localhost:8080/",
          "height": 340
        }
      },
      "source": [
        "# my_arr = np.array(my_list)\n",
        "train_Y = np.array(train_Y)\n",
        "tf.convert_to_tensor(train_Y)\n",
        "model.fit(my_arr, train_Y, epochs=1,batch_size=1,verbose=2)"
      ],
      "execution_count": 90,
      "outputs": [
        {
          "output_type": "error",
          "ename": "TypeError",
          "evalue": "ignored",
          "traceback": [
            "\u001b[0;31m---------------------------------------------------------------------------\u001b[0m",
            "\u001b[0;31mTypeError\u001b[0m                                 Traceback (most recent call last)",
            "\u001b[0;32m<ipython-input-90-fce2d533339a>\u001b[0m in \u001b[0;36m<module>\u001b[0;34m()\u001b[0m\n\u001b[1;32m      2\u001b[0m \u001b[0mtrain_Y\u001b[0m \u001b[0;34m=\u001b[0m \u001b[0mnp\u001b[0m\u001b[0;34m.\u001b[0m\u001b[0marray\u001b[0m\u001b[0;34m(\u001b[0m\u001b[0mtrain_Y\u001b[0m\u001b[0;34m)\u001b[0m\u001b[0;34m\u001b[0m\u001b[0;34m\u001b[0m\u001b[0m\n\u001b[1;32m      3\u001b[0m \u001b[0mtf\u001b[0m\u001b[0;34m.\u001b[0m\u001b[0mconvert_to_tensor\u001b[0m\u001b[0;34m(\u001b[0m\u001b[0mtrain_Y\u001b[0m\u001b[0;34m)\u001b[0m\u001b[0;34m\u001b[0m\u001b[0;34m\u001b[0m\u001b[0m\n\u001b[0;32m----> 4\u001b[0;31m \u001b[0mmodel\u001b[0m\u001b[0;34m.\u001b[0m\u001b[0mfit\u001b[0m\u001b[0;34m(\u001b[0m\u001b[0mmy_arr\u001b[0m\u001b[0;34m,\u001b[0m \u001b[0mtrain_Y\u001b[0m\u001b[0;34m,\u001b[0m \u001b[0mepochs\u001b[0m\u001b[0;34m=\u001b[0m\u001b[0;36m1\u001b[0m\u001b[0;34m,\u001b[0m\u001b[0mbatch_size\u001b[0m\u001b[0;34m=\u001b[0m\u001b[0;36m1\u001b[0m\u001b[0;34m,\u001b[0m\u001b[0mverbose\u001b[0m\u001b[0;34m=\u001b[0m\u001b[0;36m2\u001b[0m\u001b[0;34m)\u001b[0m\u001b[0;34m\u001b[0m\u001b[0;34m\u001b[0m\u001b[0m\n\u001b[0m",
            "\u001b[0;32m/usr/local/lib/python3.7/dist-packages/keras/engine/training.py\u001b[0m in \u001b[0;36mfit\u001b[0;34m(self, x, y, batch_size, epochs, verbose, callbacks, validation_split, validation_data, shuffle, class_weight, sample_weight, initial_epoch, steps_per_epoch, validation_steps, validation_batch_size, validation_freq, max_queue_size, workers, use_multiprocessing)\u001b[0m\n\u001b[1;32m   1182\u001b[0m                 _r=1):\n\u001b[1;32m   1183\u001b[0m               \u001b[0mcallbacks\u001b[0m\u001b[0;34m.\u001b[0m\u001b[0mon_train_batch_begin\u001b[0m\u001b[0;34m(\u001b[0m\u001b[0mstep\u001b[0m\u001b[0;34m)\u001b[0m\u001b[0;34m\u001b[0m\u001b[0;34m\u001b[0m\u001b[0m\n\u001b[0;32m-> 1184\u001b[0;31m               \u001b[0mtmp_logs\u001b[0m \u001b[0;34m=\u001b[0m \u001b[0mself\u001b[0m\u001b[0;34m.\u001b[0m\u001b[0mtrain_function\u001b[0m\u001b[0;34m(\u001b[0m\u001b[0miterator\u001b[0m\u001b[0;34m)\u001b[0m\u001b[0;34m\u001b[0m\u001b[0;34m\u001b[0m\u001b[0m\n\u001b[0m\u001b[1;32m   1185\u001b[0m               \u001b[0;32mif\u001b[0m \u001b[0mdata_handler\u001b[0m\u001b[0;34m.\u001b[0m\u001b[0mshould_sync\u001b[0m\u001b[0;34m:\u001b[0m\u001b[0;34m\u001b[0m\u001b[0;34m\u001b[0m\u001b[0m\n\u001b[1;32m   1186\u001b[0m                 \u001b[0mcontext\u001b[0m\u001b[0;34m.\u001b[0m\u001b[0masync_wait\u001b[0m\u001b[0;34m(\u001b[0m\u001b[0;34m)\u001b[0m\u001b[0;34m\u001b[0m\u001b[0;34m\u001b[0m\u001b[0m\n",
            "\u001b[0;32m/usr/local/lib/python3.7/dist-packages/tensorflow/python/eager/def_function.py\u001b[0m in \u001b[0;36m__call__\u001b[0;34m(self, *args, **kwds)\u001b[0m\n\u001b[1;32m    883\u001b[0m \u001b[0;34m\u001b[0m\u001b[0m\n\u001b[1;32m    884\u001b[0m       \u001b[0;32mwith\u001b[0m \u001b[0mOptionalXlaContext\u001b[0m\u001b[0;34m(\u001b[0m\u001b[0mself\u001b[0m\u001b[0;34m.\u001b[0m\u001b[0m_jit_compile\u001b[0m\u001b[0;34m)\u001b[0m\u001b[0;34m:\u001b[0m\u001b[0;34m\u001b[0m\u001b[0;34m\u001b[0m\u001b[0m\n\u001b[0;32m--> 885\u001b[0;31m         \u001b[0mresult\u001b[0m \u001b[0;34m=\u001b[0m \u001b[0mself\u001b[0m\u001b[0;34m.\u001b[0m\u001b[0m_call\u001b[0m\u001b[0;34m(\u001b[0m\u001b[0;34m*\u001b[0m\u001b[0margs\u001b[0m\u001b[0;34m,\u001b[0m \u001b[0;34m**\u001b[0m\u001b[0mkwds\u001b[0m\u001b[0;34m)\u001b[0m\u001b[0;34m\u001b[0m\u001b[0;34m\u001b[0m\u001b[0m\n\u001b[0m\u001b[1;32m    886\u001b[0m \u001b[0;34m\u001b[0m\u001b[0m\n\u001b[1;32m    887\u001b[0m       \u001b[0mnew_tracing_count\u001b[0m \u001b[0;34m=\u001b[0m \u001b[0mself\u001b[0m\u001b[0;34m.\u001b[0m\u001b[0mexperimental_get_tracing_count\u001b[0m\u001b[0;34m(\u001b[0m\u001b[0;34m)\u001b[0m\u001b[0;34m\u001b[0m\u001b[0;34m\u001b[0m\u001b[0m\n",
            "\u001b[0;32m/usr/local/lib/python3.7/dist-packages/tensorflow/python/eager/def_function.py\u001b[0m in \u001b[0;36m_call\u001b[0;34m(self, *args, **kwds)\u001b[0m\n\u001b[1;32m    915\u001b[0m       \u001b[0;31m# In this case we have created variables on the first call, so we run the\u001b[0m\u001b[0;34m\u001b[0m\u001b[0;34m\u001b[0m\u001b[0;34m\u001b[0m\u001b[0m\n\u001b[1;32m    916\u001b[0m       \u001b[0;31m# defunned version which is guaranteed to never create variables.\u001b[0m\u001b[0;34m\u001b[0m\u001b[0;34m\u001b[0m\u001b[0;34m\u001b[0m\u001b[0m\n\u001b[0;32m--> 917\u001b[0;31m       \u001b[0;32mreturn\u001b[0m \u001b[0mself\u001b[0m\u001b[0;34m.\u001b[0m\u001b[0m_stateless_fn\u001b[0m\u001b[0;34m(\u001b[0m\u001b[0;34m*\u001b[0m\u001b[0margs\u001b[0m\u001b[0;34m,\u001b[0m \u001b[0;34m**\u001b[0m\u001b[0mkwds\u001b[0m\u001b[0;34m)\u001b[0m  \u001b[0;31m# pylint: disable=not-callable\u001b[0m\u001b[0;34m\u001b[0m\u001b[0;34m\u001b[0m\u001b[0m\n\u001b[0m\u001b[1;32m    918\u001b[0m     \u001b[0;32melif\u001b[0m \u001b[0mself\u001b[0m\u001b[0;34m.\u001b[0m\u001b[0m_stateful_fn\u001b[0m \u001b[0;32mis\u001b[0m \u001b[0;32mnot\u001b[0m \u001b[0;32mNone\u001b[0m\u001b[0;34m:\u001b[0m\u001b[0;34m\u001b[0m\u001b[0;34m\u001b[0m\u001b[0m\n\u001b[1;32m    919\u001b[0m       \u001b[0;31m# Release the lock early so that multiple threads can perform the call\u001b[0m\u001b[0;34m\u001b[0m\u001b[0;34m\u001b[0m\u001b[0;34m\u001b[0m\u001b[0m\n",
            "\u001b[0;31mTypeError\u001b[0m: 'NoneType' object is not callable"
          ]
        }
      ]
    },
    {
      "cell_type": "code",
      "metadata": {
        "id": "srewpoBtnACS"
      },
      "source": [
        "my_arr = my_arr[:, :, None]"
      ],
      "execution_count": 87,
      "outputs": []
    },
    {
      "cell_type": "code",
      "metadata": {
        "id": "X4UKIjUmgvCb"
      },
      "source": [
        "from pytrends.request import TrendReq\n",
        "import pandas as pd\n",
        "\n",
        "pytrend = TrendReq()"
      ],
      "execution_count": 55,
      "outputs": []
    },
    {
      "cell_type": "code",
      "metadata": {
        "id": "G3_zuLPhgvEu"
      },
      "source": [
        "pytrend.build_payload(kw_list=[\"bitcoin\"])"
      ],
      "execution_count": 56,
      "outputs": []
    },
    {
      "cell_type": "code",
      "metadata": {
        "id": "gS84hWdigvG9",
        "outputId": "92ba4a29-59c6-418c-d093-1fa01c40a294",
        "colab": {
          "base_uri": "https://localhost:8080/",
          "height": 450
        }
      },
      "source": [
        "pytrend.interest_over_time()"
      ],
      "execution_count": 65,
      "outputs": [
        {
          "output_type": "execute_result",
          "data": {
            "text/html": [
              "<div>\n",
              "<style scoped>\n",
              "    .dataframe tbody tr th:only-of-type {\n",
              "        vertical-align: middle;\n",
              "    }\n",
              "\n",
              "    .dataframe tbody tr th {\n",
              "        vertical-align: top;\n",
              "    }\n",
              "\n",
              "    .dataframe thead th {\n",
              "        text-align: right;\n",
              "    }\n",
              "</style>\n",
              "<table border=\"1\" class=\"dataframe\">\n",
              "  <thead>\n",
              "    <tr style=\"text-align: right;\">\n",
              "      <th></th>\n",
              "      <th>bitcoin</th>\n",
              "      <th>isPartial</th>\n",
              "    </tr>\n",
              "    <tr>\n",
              "      <th>date</th>\n",
              "      <th></th>\n",
              "      <th></th>\n",
              "    </tr>\n",
              "  </thead>\n",
              "  <tbody>\n",
              "    <tr>\n",
              "      <th>2016-09-11</th>\n",
              "      <td>2</td>\n",
              "      <td>False</td>\n",
              "    </tr>\n",
              "    <tr>\n",
              "      <th>2016-09-18</th>\n",
              "      <td>3</td>\n",
              "      <td>False</td>\n",
              "    </tr>\n",
              "    <tr>\n",
              "      <th>2016-09-25</th>\n",
              "      <td>2</td>\n",
              "      <td>False</td>\n",
              "    </tr>\n",
              "    <tr>\n",
              "      <th>2016-10-02</th>\n",
              "      <td>3</td>\n",
              "      <td>False</td>\n",
              "    </tr>\n",
              "    <tr>\n",
              "      <th>2016-10-09</th>\n",
              "      <td>3</td>\n",
              "      <td>False</td>\n",
              "    </tr>\n",
              "    <tr>\n",
              "      <th>...</th>\n",
              "      <td>...</td>\n",
              "      <td>...</td>\n",
              "    </tr>\n",
              "    <tr>\n",
              "      <th>2021-08-08</th>\n",
              "      <td>30</td>\n",
              "      <td>False</td>\n",
              "    </tr>\n",
              "    <tr>\n",
              "      <th>2021-08-15</th>\n",
              "      <td>27</td>\n",
              "      <td>False</td>\n",
              "    </tr>\n",
              "    <tr>\n",
              "      <th>2021-08-22</th>\n",
              "      <td>26</td>\n",
              "      <td>False</td>\n",
              "    </tr>\n",
              "    <tr>\n",
              "      <th>2021-08-29</th>\n",
              "      <td>22</td>\n",
              "      <td>False</td>\n",
              "    </tr>\n",
              "    <tr>\n",
              "      <th>2021-09-05</th>\n",
              "      <td>25</td>\n",
              "      <td>True</td>\n",
              "    </tr>\n",
              "  </tbody>\n",
              "</table>\n",
              "<p>261 rows × 2 columns</p>\n",
              "</div>"
            ],
            "text/plain": [
              "            bitcoin isPartial\n",
              "date                         \n",
              "2016-09-11        2     False\n",
              "2016-09-18        3     False\n",
              "2016-09-25        2     False\n",
              "2016-10-02        3     False\n",
              "2016-10-09        3     False\n",
              "...             ...       ...\n",
              "2021-08-08       30     False\n",
              "2021-08-15       27     False\n",
              "2021-08-22       26     False\n",
              "2021-08-29       22     False\n",
              "2021-09-05       25      True\n",
              "\n",
              "[261 rows x 2 columns]"
            ]
          },
          "metadata": {},
          "execution_count": 65
        }
      ]
    },
    {
      "cell_type": "code",
      "metadata": {
        "id": "fIFe_q-ujzVj"
      },
      "source": [
        "regressor = XGBRegressor()"
      ],
      "execution_count": 34,
      "outputs": []
    },
    {
      "cell_type": "code",
      "metadata": {
        "id": "6PD0jwIyjzVj"
      },
      "source": [
        "from sklearn.ensemble import GradientBoostingRegressor\n",
        "alpha = 0.95\n",
        "regressor = GradientBoostingRegressor(loss='ls', alpha=alpha,\n",
        "                                n_estimators=400, max_depth=4,\n",
        "                                learning_rate=0.05)"
      ],
      "execution_count": 35,
      "outputs": []
    },
    {
      "cell_type": "code",
      "metadata": {
        "id": "sV31hrKujzVj",
        "colab": {
          "base_uri": "https://localhost:8080/"
        },
        "outputId": "2ef9e376-6513-4ee1-a9d5-bfde4893313c"
      },
      "source": [
        "regressor.fit(np.array(my_list),train_Y)"
      ],
      "execution_count": 36,
      "outputs": [
        {
          "output_type": "execute_result",
          "data": {
            "text/plain": [
              "GradientBoostingRegressor(alpha=0.95, ccp_alpha=0.0, criterion='friedman_mse',\n",
              "                          init=None, learning_rate=0.05, loss='ls', max_depth=4,\n",
              "                          max_features=None, max_leaf_nodes=None,\n",
              "                          min_impurity_decrease=0.0, min_impurity_split=None,\n",
              "                          min_samples_leaf=1, min_samples_split=2,\n",
              "                          min_weight_fraction_leaf=0.0, n_estimators=400,\n",
              "                          n_iter_no_change=None, presort='deprecated',\n",
              "                          random_state=None, subsample=1.0, tol=0.0001,\n",
              "                          validation_fraction=0.1, verbose=0, warm_start=False)"
            ]
          },
          "metadata": {},
          "execution_count": 36
        }
      ]
    },
    {
      "cell_type": "code",
      "metadata": {
        "id": "lKJ5AkQDjzVj",
        "colab": {
          "base_uri": "https://localhost:8080/",
          "height": 551
        },
        "outputId": "9170a2ed-6c6b-44c7-bae4-5b5c05c5bc9f"
      },
      "source": [
        "import matplotlib.pyplot\n",
        "from matplotlib.pyplot import figure\n",
        "figure(figsize=(12, 8), dpi=80)\n",
        "plt.plot(regressor.feature_importances_)"
      ],
      "execution_count": 37,
      "outputs": [
        {
          "output_type": "execute_result",
          "data": {
            "text/plain": [
              "[<matplotlib.lines.Line2D at 0x7f918d794950>]"
            ]
          },
          "metadata": {},
          "execution_count": 37
        },
        {
          "output_type": "display_data",
          "data": {
            "image/png": "[encoded data removed]",
            "text/plain": [
              "<Figure size 960x640 with 1 Axes>"
            ]
          },
          "metadata": {
            "needs_background": "light"
          }
        }
      ]
    },
    {
      "cell_type": "code",
      "metadata": {
        "id": "JGYgkx2hjzVk"
      },
      "source": [
        "predictions = regressor.predict(np.array(my_list))"
      ],
      "execution_count": 38,
      "outputs": []
    },
    {
      "cell_type": "code",
      "metadata": {
        "id": "kqRM4ExljzVk",
        "colab": {
          "base_uri": "https://localhost:8080/"
        },
        "outputId": "be464928-c8b6-47b8-d20f-8c28f802cd59"
      },
      "source": [
        "sklearn.metrics.mean_absolute_error(train_Y, predictions)"
      ],
      "execution_count": 39,
      "outputs": [
        {
          "output_type": "execute_result",
          "data": {
            "text/plain": [
              "45.18152999534276"
            ]
          },
          "metadata": {},
          "execution_count": 39
        }
      ]
    },
    {
      "cell_type": "code",
      "metadata": {
        "id": "W_BC6YTFjzVk"
      },
      "source": [
        "for i in range(len(train_Y)):\n",
        "  print(train_Y[i], end = \" \")\n",
        "  print(train_Y[i]- predictions[i])"
      ],
      "execution_count": null,
      "outputs": []
    },
    {
      "cell_type": "code",
      "metadata": {
        "id": "N8QzFeW7jzVl"
      },
      "source": [
        "start = dt.datetime(2021, 6, 24)\n",
        "end = dt.datetime.now()\n",
        "testData = data[500-59:501].values"
      ],
      "execution_count": 41,
      "outputs": []
    },
    {
      "cell_type": "code",
      "metadata": {
        "id": "F8f8nVCBm4ad"
      },
      "source": [
        "# test_X_list = list()\n",
        "# for i in testData:\n",
        "#     temp_list = list()\n",
        "#     for j in i:\n",
        "#         temp_list.extend(tuple(j))\n",
        "#     test_X_list.append(temp_list)"
      ],
      "execution_count": null,
      "outputs": []
    },
    {
      "cell_type": "code",
      "metadata": {
        "id": "w1eoldg2n7vm"
      },
      "source": [
        "test_list = []\n",
        "for i in testData:\n",
        "  test_list.extend(i)"
      ],
      "execution_count": 42,
      "outputs": []
    },
    {
      "cell_type": "code",
      "metadata": {
        "colab": {
          "base_uri": "https://localhost:8080/"
        },
        "id": "PyKqrbMNo5Yk",
        "outputId": "ed4b7db8-dac3-4128-a676-839bff9b27b2"
      },
      "source": [
        "regressor.predict(np.array(test_list).reshape(1, 360))"
      ],
      "execution_count": 43,
      "outputs": [
        {
          "output_type": "execute_result",
          "data": {
            "text/plain": [
              "array([655.01240049])"
            ]
          },
          "metadata": {},
          "execution_count": 43
        }
      ]
    },
    {
      "cell_type": "code",
      "metadata": {
        "colab": {
          "base_uri": "https://localhost:8080/"
        },
        "id": "hhhY-IxhpAQ8",
        "outputId": "fd41f76c-9f17-4f74-c4e4-9fdd4bd52c2d"
      },
      "source": [
        "data['Close'][502]"
      ],
      "execution_count": 47,
      "outputs": [
        {
          "output_type": "execute_result",
          "data": {
            "text/plain": [
              "1839.0899658203125"
            ]
          },
          "metadata": {},
          "execution_count": 47
        }
      ]
    },
    {
      "cell_type": "code",
      "metadata": {
        "id": "xroh-EWjp5o1"
      },
      "source": [
        "data['Close'][500-59:501]"
      ],
      "execution_count": null,
      "outputs": []
    },
    {
      "cell_type": "code",
      "metadata": {
        "id": "5tOW4FqSrcix"
      },
      "source": [
        ""
      ],
      "execution_count": null,
      "outputs": []
    }
  ]
}