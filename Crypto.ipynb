{
  "nbformat": 4,
  "nbformat_minor": 0,
  "metadata": {
    "kernelspec": {
      "display_name": "Python 3",
      "language": "python",
      "name": "python3"
    },
    "language_info": {
      "codemirror_mode": {
        "name": "ipython",
        "version": 3
      },
      "file_extension": ".py",
      "mimetype": "text/x-python",
      "name": "python",
      "nbconvert_exporter": "python",
      "pygments_lexer": "ipython3",
      "version": "3.8.3"
    },
    "colab": {
      "name": "crypto",
      "provenance": [],
      "collapsed_sections": [],
      "include_colab_link": true
    }
  },
  "cells": [
    {
      "cell_type": "markdown",
      "metadata": {
        "id": "view-in-github",
        "colab_type": "text"
      },
      "source": [
        "<a href=\"https://colab.research.google.com/github/samilarinc/crypto_prediction/blob/master/Crypto.ipynb\" target=\"_parent\"><img src=\"https://colab.research.google.com/assets/colab-badge.svg\" alt=\"Open In Colab\"/></a>"
      ]
    },
    {
      "cell_type": "code",
      "metadata": {
        "id": "6Ocir13vjzVQ"
      },
      "source": [
        "import numpy as np\n",
        "import pandas as pd\n",
        "import matplotlib.pyplot as plt\n",
        "from scipy.spatial.distance import euclidean\n",
        "from scipy import signal\n",
        "import pandas_datareader as web\n",
        "import datetime as dt\n",
        "\n",
        "import sklearn.model_selection\n",
        "\n",
        "import random"
      ],
      "execution_count": 1,
      "outputs": []
    },
    {
      "cell_type": "code",
      "metadata": {
        "id": "DQbjpHy8jzVV"
      },
      "source": [
        "crypto_currency = 'BTC'\n",
        "against_currency = 'USD'\n",
        "\n",
        "start = dt.datetime(2016,1,1)\n",
        "end = dt.datetime.now()"
      ],
      "execution_count": 2,
      "outputs": []
    },
    {
      "cell_type": "code",
      "metadata": {
        "id": "wgm5tp2AkbFh"
      },
      "source": [
        "!pip install --upgrade pandas\n",
        "!pip install --upgrade pandas-datareader"
      ],
      "execution_count": null,
      "outputs": []
    },
    {
      "cell_type": "code",
      "metadata": {
        "id": "pzkyAN57jzVW"
      },
      "source": [
        "data = web.DataReader(f'{crypto_currency}-{against_currency}', 'yahoo', start, end)"
      ],
      "execution_count": 4,
      "outputs": []
    },
    {
      "cell_type": "code",
      "metadata": {
        "id": "3qvAoZi6jzVX",
        "colab": {
          "base_uri": "https://localhost:8080/"
        },
        "outputId": "4a318531-f642-490c-9e6a-d4d03471ea58"
      },
      "source": [
        "data.keys()"
      ],
      "execution_count": 5,
      "outputs": [
        {
          "output_type": "execute_result",
          "data": {
            "text/plain": [
              "Index(['High', 'Low', 'Open', 'Close', 'Volume', 'Adj Close'], dtype='object')"
            ]
          },
          "metadata": {},
          "execution_count": 5
        }
      ]
    },
    {
      "cell_type": "code",
      "metadata": {
        "id": "cMzce906jzVY"
      },
      "source": [
        "length = len(data['High'])"
      ],
      "execution_count": 6,
      "outputs": []
    },
    {
      "cell_type": "code",
      "metadata": {
        "id": "OO4G8fMGjzVZ"
      },
      "source": [
        "my_arr = list()\n",
        "for i in range(length):\n",
        "    my_arr.append(i)"
      ],
      "execution_count": 7,
      "outputs": []
    },
    {
      "cell_type": "code",
      "metadata": {
        "id": "_4GIWxzljzVZ",
        "colab": {
          "base_uri": "https://localhost:8080/",
          "height": 450
        },
        "outputId": "fd28d018-ef97-462b-b60f-91381f6a3c2b"
      },
      "source": [
        "data"
      ],
      "execution_count": 8,
      "outputs": [
        {
          "output_type": "execute_result",
          "data": {
            "text/html": [
              "<div>\n",
              "<style scoped>\n",
              "    .dataframe tbody tr th:only-of-type {\n",
              "        vertical-align: middle;\n",
              "    }\n",
              "\n",
              "    .dataframe tbody tr th {\n",
              "        vertical-align: top;\n",
              "    }\n",
              "\n",
              "    .dataframe thead th {\n",
              "        text-align: right;\n",
              "    }\n",
              "</style>\n",
              "<table border=\"1\" class=\"dataframe\">\n",
              "  <thead>\n",
              "    <tr style=\"text-align: right;\">\n",
              "      <th></th>\n",
              "      <th>High</th>\n",
              "      <th>Low</th>\n",
              "      <th>Open</th>\n",
              "      <th>Close</th>\n",
              "      <th>Volume</th>\n",
              "      <th>Adj Close</th>\n",
              "    </tr>\n",
              "    <tr>\n",
              "      <th>Date</th>\n",
              "      <th></th>\n",
              "      <th></th>\n",
              "      <th></th>\n",
              "      <th></th>\n",
              "      <th></th>\n",
              "      <th></th>\n",
              "    </tr>\n",
              "  </thead>\n",
              "  <tbody>\n",
              "    <tr>\n",
              "      <th>2016-01-01</th>\n",
              "      <td>436.246002</td>\n",
              "      <td>427.515015</td>\n",
              "      <td>430.721008</td>\n",
              "      <td>434.334015</td>\n",
              "      <td>3.627890e+07</td>\n",
              "      <td>434.334015</td>\n",
              "    </tr>\n",
              "    <tr>\n",
              "      <th>2016-01-02</th>\n",
              "      <td>436.062012</td>\n",
              "      <td>431.869995</td>\n",
              "      <td>434.622009</td>\n",
              "      <td>433.437988</td>\n",
              "      <td>3.009660e+07</td>\n",
              "      <td>433.437988</td>\n",
              "    </tr>\n",
              "    <tr>\n",
              "      <th>2016-01-03</th>\n",
              "      <td>433.743011</td>\n",
              "      <td>424.705994</td>\n",
              "      <td>433.578003</td>\n",
              "      <td>430.010986</td>\n",
              "      <td>3.963380e+07</td>\n",
              "      <td>430.010986</td>\n",
              "    </tr>\n",
              "    <tr>\n",
              "      <th>2016-01-04</th>\n",
              "      <td>434.516998</td>\n",
              "      <td>429.084015</td>\n",
              "      <td>430.061005</td>\n",
              "      <td>433.091003</td>\n",
              "      <td>3.847750e+07</td>\n",
              "      <td>433.091003</td>\n",
              "    </tr>\n",
              "    <tr>\n",
              "      <th>2016-01-05</th>\n",
              "      <td>434.182007</td>\n",
              "      <td>429.675995</td>\n",
              "      <td>433.069000</td>\n",
              "      <td>431.959991</td>\n",
              "      <td>3.452260e+07</td>\n",
              "      <td>431.959991</td>\n",
              "    </tr>\n",
              "    <tr>\n",
              "      <th>...</th>\n",
              "      <td>...</td>\n",
              "      <td>...</td>\n",
              "      <td>...</td>\n",
              "      <td>...</td>\n",
              "      <td>...</td>\n",
              "      <td>...</td>\n",
              "    </tr>\n",
              "    <tr>\n",
              "      <th>2021-09-08</th>\n",
              "      <td>47261.949219</td>\n",
              "      <td>45669.738281</td>\n",
              "      <td>45774.742188</td>\n",
              "      <td>46391.421875</td>\n",
              "      <td>3.867266e+10</td>\n",
              "      <td>46391.421875</td>\n",
              "    </tr>\n",
              "    <tr>\n",
              "      <th>2021-09-09</th>\n",
              "      <td>47031.742188</td>\n",
              "      <td>44344.484375</td>\n",
              "      <td>46396.664062</td>\n",
              "      <td>44883.910156</td>\n",
              "      <td>3.915467e+10</td>\n",
              "      <td>44883.910156</td>\n",
              "    </tr>\n",
              "    <tr>\n",
              "      <th>2021-09-10</th>\n",
              "      <td>45969.292969</td>\n",
              "      <td>44818.265625</td>\n",
              "      <td>44869.839844</td>\n",
              "      <td>45201.457031</td>\n",
              "      <td>3.449984e+10</td>\n",
              "      <td>45201.457031</td>\n",
              "    </tr>\n",
              "    <tr>\n",
              "      <th>2021-09-11</th>\n",
              "      <td>46364.878906</td>\n",
              "      <td>44790.460938</td>\n",
              "      <td>45206.628906</td>\n",
              "      <td>46063.269531</td>\n",
              "      <td>2.788198e+10</td>\n",
              "      <td>46063.269531</td>\n",
              "    </tr>\n",
              "    <tr>\n",
              "      <th>2021-09-13</th>\n",
              "      <td>46234.527344</td>\n",
              "      <td>44268.375000</td>\n",
              "      <td>46114.171875</td>\n",
              "      <td>44524.566406</td>\n",
              "      <td>3.088782e+10</td>\n",
              "      <td>44524.566406</td>\n",
              "    </tr>\n",
              "  </tbody>\n",
              "</table>\n",
              "<p>2079 rows × 6 columns</p>\n",
              "</div>"
            ],
            "text/plain": [
              "                    High           Low  ...        Volume     Adj Close\n",
              "Date                                    ...                            \n",
              "2016-01-01    436.246002    427.515015  ...  3.627890e+07    434.334015\n",
              "2016-01-02    436.062012    431.869995  ...  3.009660e+07    433.437988\n",
              "2016-01-03    433.743011    424.705994  ...  3.963380e+07    430.010986\n",
              "2016-01-04    434.516998    429.084015  ...  3.847750e+07    433.091003\n",
              "2016-01-05    434.182007    429.675995  ...  3.452260e+07    431.959991\n",
              "...                  ...           ...  ...           ...           ...\n",
              "2021-09-08  47261.949219  45669.738281  ...  3.867266e+10  46391.421875\n",
              "2021-09-09  47031.742188  44344.484375  ...  3.915467e+10  44883.910156\n",
              "2021-09-10  45969.292969  44818.265625  ...  3.449984e+10  45201.457031\n",
              "2021-09-11  46364.878906  44790.460938  ...  2.788198e+10  46063.269531\n",
              "2021-09-13  46234.527344  44268.375000  ...  3.088782e+10  44524.566406\n",
              "\n",
              "[2079 rows x 6 columns]"
            ]
          },
          "metadata": {},
          "execution_count": 8
        }
      ]
    },
    {
      "cell_type": "code",
      "metadata": {
        "id": "6NZIoMenjzVa"
      },
      "source": [
        "data.drop_duplicates(inplace=True)"
      ],
      "execution_count": 9,
      "outputs": []
    },
    {
      "cell_type": "code",
      "metadata": {
        "id": "SnbDz7ILjzVb"
      },
      "source": [
        "data.index = my_arr\n",
        "dictdata = data.to_dict()\n",
        "highs = list(dictdata['High'].values())\n",
        "lows = list(dictdata['Low'].values())\n",
        "opens = list(dictdata['Open'].values())\n",
        "closes = list(dictdata['Close'].values())\n",
        "volumes = list(dictdata['Volume'].values())\n",
        "adjs = list(dictdata['Adj Close'].values())\n",
        "lists = [highs, lows, opens, closes, volumes, adjs]"
      ],
      "execution_count": 47,
      "outputs": []
    },
    {
      "cell_type": "code",
      "metadata": {
        "id": "psFHmCmzjzVc"
      },
      "source": [
        "prev_days = 60"
      ],
      "execution_count": 26,
      "outputs": []
    },
    {
      "cell_type": "code",
      "metadata": {
        "id": "hKWC14sBjzVc",
        "colab": {
          "base_uri": "https://localhost:8080/",
          "height": 419
        },
        "outputId": "0755022e-f65a-4749-f01c-769d3d344299"
      },
      "source": [
        "data"
      ],
      "execution_count": 27,
      "outputs": [
        {
          "output_type": "execute_result",
          "data": {
            "text/html": [
              "<div>\n",
              "<style scoped>\n",
              "    .dataframe tbody tr th:only-of-type {\n",
              "        vertical-align: middle;\n",
              "    }\n",
              "\n",
              "    .dataframe tbody tr th {\n",
              "        vertical-align: top;\n",
              "    }\n",
              "\n",
              "    .dataframe thead th {\n",
              "        text-align: right;\n",
              "    }\n",
              "</style>\n",
              "<table border=\"1\" class=\"dataframe\">\n",
              "  <thead>\n",
              "    <tr style=\"text-align: right;\">\n",
              "      <th></th>\n",
              "      <th>High</th>\n",
              "      <th>Low</th>\n",
              "      <th>Open</th>\n",
              "      <th>Close</th>\n",
              "      <th>Volume</th>\n",
              "      <th>Adj Close</th>\n",
              "    </tr>\n",
              "  </thead>\n",
              "  <tbody>\n",
              "    <tr>\n",
              "      <th>0</th>\n",
              "      <td>436.246002</td>\n",
              "      <td>427.515015</td>\n",
              "      <td>430.721008</td>\n",
              "      <td>434.334015</td>\n",
              "      <td>3.627890e+07</td>\n",
              "      <td>434.334015</td>\n",
              "    </tr>\n",
              "    <tr>\n",
              "      <th>1</th>\n",
              "      <td>436.062012</td>\n",
              "      <td>431.869995</td>\n",
              "      <td>434.622009</td>\n",
              "      <td>433.437988</td>\n",
              "      <td>3.009660e+07</td>\n",
              "      <td>433.437988</td>\n",
              "    </tr>\n",
              "    <tr>\n",
              "      <th>2</th>\n",
              "      <td>433.743011</td>\n",
              "      <td>424.705994</td>\n",
              "      <td>433.578003</td>\n",
              "      <td>430.010986</td>\n",
              "      <td>3.963380e+07</td>\n",
              "      <td>430.010986</td>\n",
              "    </tr>\n",
              "    <tr>\n",
              "      <th>3</th>\n",
              "      <td>434.516998</td>\n",
              "      <td>429.084015</td>\n",
              "      <td>430.061005</td>\n",
              "      <td>433.091003</td>\n",
              "      <td>3.847750e+07</td>\n",
              "      <td>433.091003</td>\n",
              "    </tr>\n",
              "    <tr>\n",
              "      <th>4</th>\n",
              "      <td>434.182007</td>\n",
              "      <td>429.675995</td>\n",
              "      <td>433.069000</td>\n",
              "      <td>431.959991</td>\n",
              "      <td>3.452260e+07</td>\n",
              "      <td>431.959991</td>\n",
              "    </tr>\n",
              "    <tr>\n",
              "      <th>...</th>\n",
              "      <td>...</td>\n",
              "      <td>...</td>\n",
              "      <td>...</td>\n",
              "      <td>...</td>\n",
              "      <td>...</td>\n",
              "      <td>...</td>\n",
              "    </tr>\n",
              "    <tr>\n",
              "      <th>2074</th>\n",
              "      <td>47261.949219</td>\n",
              "      <td>45669.738281</td>\n",
              "      <td>45774.742188</td>\n",
              "      <td>46391.421875</td>\n",
              "      <td>3.867266e+10</td>\n",
              "      <td>46391.421875</td>\n",
              "    </tr>\n",
              "    <tr>\n",
              "      <th>2075</th>\n",
              "      <td>47031.742188</td>\n",
              "      <td>44344.484375</td>\n",
              "      <td>46396.664062</td>\n",
              "      <td>44883.910156</td>\n",
              "      <td>3.915467e+10</td>\n",
              "      <td>44883.910156</td>\n",
              "    </tr>\n",
              "    <tr>\n",
              "      <th>2076</th>\n",
              "      <td>45969.292969</td>\n",
              "      <td>44818.265625</td>\n",
              "      <td>44869.839844</td>\n",
              "      <td>45201.457031</td>\n",
              "      <td>3.449984e+10</td>\n",
              "      <td>45201.457031</td>\n",
              "    </tr>\n",
              "    <tr>\n",
              "      <th>2077</th>\n",
              "      <td>46364.878906</td>\n",
              "      <td>44790.460938</td>\n",
              "      <td>45206.628906</td>\n",
              "      <td>46063.269531</td>\n",
              "      <td>2.788198e+10</td>\n",
              "      <td>46063.269531</td>\n",
              "    </tr>\n",
              "    <tr>\n",
              "      <th>2078</th>\n",
              "      <td>46234.527344</td>\n",
              "      <td>44268.375000</td>\n",
              "      <td>46114.171875</td>\n",
              "      <td>44524.566406</td>\n",
              "      <td>3.088782e+10</td>\n",
              "      <td>44524.566406</td>\n",
              "    </tr>\n",
              "  </tbody>\n",
              "</table>\n",
              "<p>2079 rows × 6 columns</p>\n",
              "</div>"
            ],
            "text/plain": [
              "              High           Low  ...        Volume     Adj Close\n",
              "0       436.246002    427.515015  ...  3.627890e+07    434.334015\n",
              "1       436.062012    431.869995  ...  3.009660e+07    433.437988\n",
              "2       433.743011    424.705994  ...  3.963380e+07    430.010986\n",
              "3       434.516998    429.084015  ...  3.847750e+07    433.091003\n",
              "4       434.182007    429.675995  ...  3.452260e+07    431.959991\n",
              "...            ...           ...  ...           ...           ...\n",
              "2074  47261.949219  45669.738281  ...  3.867266e+10  46391.421875\n",
              "2075  47031.742188  44344.484375  ...  3.915467e+10  44883.910156\n",
              "2076  45969.292969  44818.265625  ...  3.449984e+10  45201.457031\n",
              "2077  46364.878906  44790.460938  ...  2.788198e+10  46063.269531\n",
              "2078  46234.527344  44268.375000  ...  3.088782e+10  44524.566406\n",
              "\n",
              "[2079 rows x 6 columns]"
            ]
          },
          "metadata": {},
          "execution_count": 27
        }
      ]
    },
    {
      "cell_type": "code",
      "metadata": {
        "id": "COqg8Go1dIdB"
      },
      "source": [
        "train_high = [] \n",
        "train_low = []\n",
        "train_open = []\n",
        "train_close = []\n",
        "train_volume = []\n",
        "train_adj = []\n",
        "\n",
        "out_high = []\n",
        "out_low = []\n",
        "out_open = []\n",
        "out_close = []\n",
        "out_volume = []\n",
        "out_adj = []\n",
        "\n",
        "i = 0"
      ],
      "execution_count": 48,
      "outputs": []
    },
    {
      "cell_type": "code",
      "metadata": {
        "id": "DQtZE7u8kdAn"
      },
      "source": [
        "while i+prev_days < length:\n",
        "    train_high.append(highs[i:i+prev_days])\n",
        "    out_high.append(highs[i+prev_days])\n",
        "\n",
        "    train_low.append(lows[i:i+prev_days])\n",
        "    out_low.append(lows[i+prev_days])\n",
        "\n",
        "    train_open.append(opens[i:i+prev_days])\n",
        "    out_open.append(opens[i+prev_days])\n",
        "\n",
        "    train_close.append(closes[i:i+prev_days])\n",
        "    out_close.append(closes[i+prev_days])\n",
        "\n",
        "    train_volume.append(volumes[i:i+prev_days])\n",
        "    out_volume.append(volumes[i+prev_days])\n",
        "\n",
        "    train_adj.append(adjs[i:i+prev_days])\n",
        "    out_adj.append(adjs[i+prev_days])\n",
        "\n",
        "    i += 1"
      ],
      "execution_count": 49,
      "outputs": []
    },
    {
      "cell_type": "code",
      "metadata": {
        "id": "AqNpKSAQkfrC"
      },
      "source": [
        "train_lists = [train_high, train_low, train_open, train_close, train_volume, train_adj]\n",
        "out_lists = [out_high, out_low, out_open, out_close, out_volume, out_adj] "
      ],
      "execution_count": 50,
      "outputs": []
    },
    {
      "cell_type": "code",
      "metadata": {
        "id": "XoWrsN4shGie"
      },
      "source": [
        "from sklearn.ensemble import GradientBoostingRegressor\n",
        "alpha = 0.95\n",
        "regressor = GradientBoostingRegressor(loss='ls', alpha=alpha,\n",
        "                                n_estimators=400, max_depth=4,\n",
        "                                learning_rate=0.05)"
      ],
      "execution_count": 51,
      "outputs": []
    },
    {
      "cell_type": "code",
      "metadata": {
        "colab": {
          "base_uri": "https://localhost:8080/"
        },
        "id": "D2622F67hS9t",
        "outputId": "5af628b3-a3a3-43f2-d7d5-23a8d9e986d4"
      },
      "source": [
        "regressor.fit(train_close, out_close)"
      ],
      "execution_count": 53,
      "outputs": [
        {
          "output_type": "execute_result",
          "data": {
            "text/plain": [
              "GradientBoostingRegressor(alpha=0.95, ccp_alpha=0.0, criterion='friedman_mse',\n",
              "                          init=None, learning_rate=0.05, loss='ls', max_depth=4,\n",
              "                          max_features=None, max_leaf_nodes=None,\n",
              "                          min_impurity_decrease=0.0, min_impurity_split=None,\n",
              "                          min_samples_leaf=1, min_samples_split=2,\n",
              "                          min_weight_fraction_leaf=0.0, n_estimators=400,\n",
              "                          n_iter_no_change=None, presort='deprecated',\n",
              "                          random_state=None, subsample=1.0, tol=0.0001,\n",
              "                          validation_fraction=0.1, verbose=0, warm_start=False)"
            ]
          },
          "metadata": {},
          "execution_count": 53
        }
      ]
    },
    {
      "cell_type": "code",
      "metadata": {
        "colab": {
          "base_uri": "https://localhost:8080/",
          "height": 550
        },
        "id": "EA_bp1_yhaSv",
        "outputId": "be6f0874-0489-403b-f924-b0a0fdb1d91d"
      },
      "source": [
        "import matplotlib.pyplot\n",
        "from matplotlib.pyplot import figure\n",
        "figure(figsize=(12, 8), dpi=80)\n",
        "plt.plot(regressor.feature_importances_)"
      ],
      "execution_count": 100,
      "outputs": [
        {
          "output_type": "execute_result",
          "data": {
            "text/plain": [
              "[<matplotlib.lines.Line2D at 0x7f4579492650>]"
            ]
          },
          "metadata": {},
          "execution_count": 100
        },
        {
          "output_type": "display_data",
          "data": {
            "image/png": "[encoded data removed]",
            "text/plain": [
              "<Figure size 960x640 with 1 Axes>"
            ]
          },
          "metadata": {
            "needs_background": "light"
          }
        }
      ]
    },
    {
      "cell_type": "code",
      "metadata": {
        "id": "1zTyc3vDhl2Q"
      },
      "source": [
        "prediction = regressor.predict(np.array(closes[-65:-5]).reshape(1, -1))"
      ],
      "execution_count": 63,
      "outputs": []
    },
    {
      "cell_type": "code",
      "metadata": {
        "id": "55bM7hvtnMLf"
      },
      "source": [
        "single_train_list = []\n",
        "for i in range(length-prev_days):\n",
        "    single_train_list.append(train_lists[0][i])\n",
        "    single_train_list[i].extend(train_lists[1][i])\n",
        "    single_train_list[i].extend(train_lists[2][i])\n",
        "    single_train_list[i].extend(train_lists[3][i])\n",
        "    single_train_list[i].extend(train_lists[4][i])\n",
        "    single_train_list[i].extend(train_lists[5][i])"
      ],
      "execution_count": 70,
      "outputs": []
    },
    {
      "cell_type": "code",
      "metadata": {
        "colab": {
          "base_uri": "https://localhost:8080/"
        },
        "id": "I8jVB-bfn7ie",
        "outputId": "4bc3bcae-c6cf-464d-f10c-0fbdadadd96a"
      },
      "source": [
        "regressor.fit(single_train_list[:-1], out_close[1:])"
      ],
      "execution_count": 111,
      "outputs": [
        {
          "output_type": "execute_result",
          "data": {
            "text/plain": [
              "GradientBoostingRegressor(alpha=0.95, ccp_alpha=0.0, criterion='friedman_mse',\n",
              "                          init=None, learning_rate=0.05, loss='ls', max_depth=4,\n",
              "                          max_features=None, max_leaf_nodes=None,\n",
              "                          min_impurity_decrease=0.0, min_impurity_split=None,\n",
              "                          min_samples_leaf=1, min_samples_split=2,\n",
              "                          min_weight_fraction_leaf=0.0, n_estimators=400,\n",
              "                          n_iter_no_change=None, presort='deprecated',\n",
              "                          random_state=None, subsample=1.0, tol=0.0001,\n",
              "                          validation_fraction=0.1, verbose=0, warm_start=False)"
            ]
          },
          "metadata": {},
          "execution_count": 111
        }
      ]
    },
    {
      "cell_type": "code",
      "metadata": {
        "colab": {
          "base_uri": "https://localhost:8080/"
        },
        "id": "_lhlY664pFNH",
        "outputId": "64cd6ab6-8779-4f19-c6ad-37a673059d65"
      },
      "source": [
        "prediction = regressor.predict(np.array(single_train_list[-1]).reshape(1, -1))\n",
        "real_values = out_close[-1]\n",
        "print(real_values, prediction[0])"
      ],
      "execution_count": 118,
      "outputs": [
        {
          "output_type": "stream",
          "name": "stdout",
          "text": [
            "44524.56640625 45207.048111948796\n"
          ]
        }
      ]
    },
    {
      "cell_type": "code",
      "metadata": {
        "colab": {
          "base_uri": "https://localhost:8080/"
        },
        "id": "tlC9ARC9qshF",
        "outputId": "72939aff-a859-40a5-b8eb-6549d41d5846"
      },
      "source": [
        "regressor.score(single_train_list, out_close)"
      ],
      "execution_count": 112,
      "outputs": [
        {
          "output_type": "execute_result",
          "data": {
            "text/plain": [
              "0.9973292418757879"
            ]
          },
          "metadata": {},
          "execution_count": 112
        }
      ]
    }
  ]
}