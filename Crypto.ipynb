{
  "nbformat": 4,
  "nbformat_minor": 0,
  "metadata": {
    "kernelspec": {
      "display_name": "Python 3",
      "language": "python",
      "name": "python3"
    },
    "language_info": {
      "codemirror_mode": {
        "name": "ipython",
        "version": 3
      },
      "file_extension": ".py",
      "mimetype": "text/x-python",
      "name": "python",
      "nbconvert_exporter": "python",
      "pygments_lexer": "ipython3",
      "version": "3.8.3"
    },
    "colab": {
      "name": "crypto",
      "provenance": [],
      "collapsed_sections": [],
      "include_colab_link": true
    }
  },
  "cells": [
    {
      "cell_type": "markdown",
      "metadata": {
        "id": "view-in-github",
        "colab_type": "text"
      },
      "source": [
        "<a href=\"https://colab.research.google.com/github/samilarinc/crypto_prediction/blob/master/Crypto.ipynb\" target=\"_parent\"><img src=\"https://colab.research.google.com/assets/colab-badge.svg\" alt=\"Open In Colab\"/></a>"
      ]
    },
    {
      "cell_type": "code",
      "metadata": {
        "id": "6Ocir13vjzVQ"
      },
      "source": [
        "import numpy as np\n",
        "import pandas as pd\n",
        "import matplotlib.pyplot as plt\n",
        "from scipy.spatial.distance import euclidean\n",
        "from scipy import signal\n",
        "import pandas_datareader as web\n",
        "import datetime as dt\n",
        "\n",
        "import sklearn.model_selection\n",
        "\n",
        "import random"
      ],
      "execution_count": 34,
      "outputs": []
    },
    {
      "cell_type": "code",
      "metadata": {
        "id": "DQbjpHy8jzVV"
      },
      "source": [
        "crypto_currency = 'BTC'\n",
        "against_currency = 'USD'\n",
        "\n",
        "start = dt.datetime(2016,1,1)\n",
        "end = dt.datetime.now()"
      ],
      "execution_count": 35,
      "outputs": []
    },
    {
      "cell_type": "code",
      "metadata": {
        "id": "wgm5tp2AkbFh",
        "outputId": "16996629-4c4e-4d17-c03c-b738be395a42",
        "colab": {
          "base_uri": "https://localhost:8080/"
        }
      },
      "source": [
        "!pip install --upgrade pandas\n",
        "!pip install --upgrade pandas-datareader"
      ],
      "execution_count": 36,
      "outputs": [
        {
          "output_type": "stream",
          "name": "stdout",
          "text": [
            "Requirement already satisfied: pandas in /usr/local/lib/python3.7/dist-packages (1.3.3)\n",
            "Requirement already satisfied: pytz>=2017.3 in /usr/local/lib/python3.7/dist-packages (from pandas) (2018.9)\n",
            "Requirement already satisfied: numpy>=1.17.3 in /usr/local/lib/python3.7/dist-packages (from pandas) (1.19.5)\n",
            "Requirement already satisfied: python-dateutil>=2.7.3 in /usr/local/lib/python3.7/dist-packages (from pandas) (2.8.2)\n",
            "Requirement already satisfied: six>=1.5 in /usr/local/lib/python3.7/dist-packages (from python-dateutil>=2.7.3->pandas) (1.15.0)\n",
            "Requirement already satisfied: pandas-datareader in /usr/local/lib/python3.7/dist-packages (0.10.0)\n",
            "Requirement already satisfied: requests>=2.19.0 in /usr/local/lib/python3.7/dist-packages (from pandas-datareader) (2.23.0)\n",
            "Requirement already satisfied: lxml in /usr/local/lib/python3.7/dist-packages (from pandas-datareader) (4.2.6)\n",
            "Requirement already satisfied: pandas>=0.23 in /usr/local/lib/python3.7/dist-packages (from pandas-datareader) (1.3.3)\n",
            "Requirement already satisfied: pytz>=2017.3 in /usr/local/lib/python3.7/dist-packages (from pandas>=0.23->pandas-datareader) (2018.9)\n",
            "Requirement already satisfied: python-dateutil>=2.7.3 in /usr/local/lib/python3.7/dist-packages (from pandas>=0.23->pandas-datareader) (2.8.2)\n",
            "Requirement already satisfied: numpy>=1.17.3 in /usr/local/lib/python3.7/dist-packages (from pandas>=0.23->pandas-datareader) (1.19.5)\n",
            "Requirement already satisfied: six>=1.5 in /usr/local/lib/python3.7/dist-packages (from python-dateutil>=2.7.3->pandas>=0.23->pandas-datareader) (1.15.0)\n",
            "Requirement already satisfied: certifi>=2017.4.17 in /usr/local/lib/python3.7/dist-packages (from requests>=2.19.0->pandas-datareader) (2021.5.30)\n",
            "Requirement already satisfied: idna<3,>=2.5 in /usr/local/lib/python3.7/dist-packages (from requests>=2.19.0->pandas-datareader) (2.10)\n",
            "Requirement already satisfied: urllib3!=1.25.0,!=1.25.1,<1.26,>=1.21.1 in /usr/local/lib/python3.7/dist-packages (from requests>=2.19.0->pandas-datareader) (1.24.3)\n",
            "Requirement already satisfied: chardet<4,>=3.0.2 in /usr/local/lib/python3.7/dist-packages (from requests>=2.19.0->pandas-datareader) (3.0.4)\n"
          ]
        }
      ]
    },
    {
      "cell_type": "code",
      "metadata": {
        "id": "pzkyAN57jzVW"
      },
      "source": [
        "data = web.DataReader(f'{crypto_currency}-{against_currency}', 'yahoo', start, end)"
      ],
      "execution_count": 37,
      "outputs": []
    },
    {
      "cell_type": "code",
      "metadata": {
        "id": "3qvAoZi6jzVX",
        "colab": {
          "base_uri": "https://localhost:8080/"
        },
        "outputId": "e17d2c2c-c8ac-47b3-af25-6fc97d7ba610"
      },
      "source": [
        "data.keys()"
      ],
      "execution_count": 38,
      "outputs": [
        {
          "output_type": "execute_result",
          "data": {
            "text/plain": [
              "Index(['High', 'Low', 'Open', 'Close', 'Volume', 'Adj Close'], dtype='object')"
            ]
          },
          "metadata": {},
          "execution_count": 38
        }
      ]
    },
    {
      "cell_type": "code",
      "metadata": {
        "id": "cMzce906jzVY"
      },
      "source": [
        "length = len(data['High'])"
      ],
      "execution_count": 39,
      "outputs": []
    },
    {
      "cell_type": "code",
      "metadata": {
        "id": "OO4G8fMGjzVZ"
      },
      "source": [
        "my_arr = list()\n",
        "for i in range(length):\n",
        "    my_arr.append(i)"
      ],
      "execution_count": 40,
      "outputs": []
    },
    {
      "cell_type": "code",
      "metadata": {
        "id": "_4GIWxzljzVZ",
        "colab": {
          "base_uri": "https://localhost:8080/",
          "height": 450
        },
        "outputId": "5bbd922a-8f97-4bc1-92bd-f6096a0b0e77"
      },
      "source": [
        "data"
      ],
      "execution_count": 41,
      "outputs": [
        {
          "output_type": "execute_result",
          "data": {
            "text/html": [
              "<div>\n",
              "<style scoped>\n",
              "    .dataframe tbody tr th:only-of-type {\n",
              "        vertical-align: middle;\n",
              "    }\n",
              "\n",
              "    .dataframe tbody tr th {\n",
              "        vertical-align: top;\n",
              "    }\n",
              "\n",
              "    .dataframe thead th {\n",
              "        text-align: right;\n",
              "    }\n",
              "</style>\n",
              "<table border=\"1\" class=\"dataframe\">\n",
              "  <thead>\n",
              "    <tr style=\"text-align: right;\">\n",
              "      <th></th>\n",
              "      <th>High</th>\n",
              "      <th>Low</th>\n",
              "      <th>Open</th>\n",
              "      <th>Close</th>\n",
              "      <th>Volume</th>\n",
              "      <th>Adj Close</th>\n",
              "    </tr>\n",
              "    <tr>\n",
              "      <th>Date</th>\n",
              "      <th></th>\n",
              "      <th></th>\n",
              "      <th></th>\n",
              "      <th></th>\n",
              "      <th></th>\n",
              "      <th></th>\n",
              "    </tr>\n",
              "  </thead>\n",
              "  <tbody>\n",
              "    <tr>\n",
              "      <th>2016-01-01</th>\n",
              "      <td>436.246002</td>\n",
              "      <td>427.515015</td>\n",
              "      <td>430.721008</td>\n",
              "      <td>434.334015</td>\n",
              "      <td>3.627890e+07</td>\n",
              "      <td>434.334015</td>\n",
              "    </tr>\n",
              "    <tr>\n",
              "      <th>2016-01-02</th>\n",
              "      <td>436.062012</td>\n",
              "      <td>431.869995</td>\n",
              "      <td>434.622009</td>\n",
              "      <td>433.437988</td>\n",
              "      <td>3.009660e+07</td>\n",
              "      <td>433.437988</td>\n",
              "    </tr>\n",
              "    <tr>\n",
              "      <th>2016-01-03</th>\n",
              "      <td>433.743011</td>\n",
              "      <td>424.705994</td>\n",
              "      <td>433.578003</td>\n",
              "      <td>430.010986</td>\n",
              "      <td>3.963380e+07</td>\n",
              "      <td>430.010986</td>\n",
              "    </tr>\n",
              "    <tr>\n",
              "      <th>2016-01-04</th>\n",
              "      <td>434.516998</td>\n",
              "      <td>429.084015</td>\n",
              "      <td>430.061005</td>\n",
              "      <td>433.091003</td>\n",
              "      <td>3.847750e+07</td>\n",
              "      <td>433.091003</td>\n",
              "    </tr>\n",
              "    <tr>\n",
              "      <th>2016-01-05</th>\n",
              "      <td>434.182007</td>\n",
              "      <td>429.675995</td>\n",
              "      <td>433.069000</td>\n",
              "      <td>431.959991</td>\n",
              "      <td>3.452260e+07</td>\n",
              "      <td>431.959991</td>\n",
              "    </tr>\n",
              "    <tr>\n",
              "      <th>...</th>\n",
              "      <td>...</td>\n",
              "      <td>...</td>\n",
              "      <td>...</td>\n",
              "      <td>...</td>\n",
              "      <td>...</td>\n",
              "      <td>...</td>\n",
              "    </tr>\n",
              "    <tr>\n",
              "      <th>2021-09-08</th>\n",
              "      <td>47261.949219</td>\n",
              "      <td>45669.738281</td>\n",
              "      <td>45774.742188</td>\n",
              "      <td>46391.421875</td>\n",
              "      <td>3.867266e+10</td>\n",
              "      <td>46391.421875</td>\n",
              "    </tr>\n",
              "    <tr>\n",
              "      <th>2021-09-09</th>\n",
              "      <td>47031.742188</td>\n",
              "      <td>44344.484375</td>\n",
              "      <td>46396.664062</td>\n",
              "      <td>44883.910156</td>\n",
              "      <td>3.915467e+10</td>\n",
              "      <td>44883.910156</td>\n",
              "    </tr>\n",
              "    <tr>\n",
              "      <th>2021-09-10</th>\n",
              "      <td>45969.292969</td>\n",
              "      <td>44818.265625</td>\n",
              "      <td>44869.839844</td>\n",
              "      <td>45201.457031</td>\n",
              "      <td>3.449984e+10</td>\n",
              "      <td>45201.457031</td>\n",
              "    </tr>\n",
              "    <tr>\n",
              "      <th>2021-09-11</th>\n",
              "      <td>46364.878906</td>\n",
              "      <td>44790.460938</td>\n",
              "      <td>45206.628906</td>\n",
              "      <td>46063.269531</td>\n",
              "      <td>2.788198e+10</td>\n",
              "      <td>46063.269531</td>\n",
              "    </tr>\n",
              "    <tr>\n",
              "      <th>2021-09-13</th>\n",
              "      <td>46234.527344</td>\n",
              "      <td>44268.375000</td>\n",
              "      <td>46114.171875</td>\n",
              "      <td>44330.304688</td>\n",
              "      <td>3.100476e+10</td>\n",
              "      <td>44330.304688</td>\n",
              "    </tr>\n",
              "  </tbody>\n",
              "</table>\n",
              "<p>2079 rows × 6 columns</p>\n",
              "</div>"
            ],
            "text/plain": [
              "                    High           Low  ...        Volume     Adj Close\n",
              "Date                                    ...                            \n",
              "2016-01-01    436.246002    427.515015  ...  3.627890e+07    434.334015\n",
              "2016-01-02    436.062012    431.869995  ...  3.009660e+07    433.437988\n",
              "2016-01-03    433.743011    424.705994  ...  3.963380e+07    430.010986\n",
              "2016-01-04    434.516998    429.084015  ...  3.847750e+07    433.091003\n",
              "2016-01-05    434.182007    429.675995  ...  3.452260e+07    431.959991\n",
              "...                  ...           ...  ...           ...           ...\n",
              "2021-09-08  47261.949219  45669.738281  ...  3.867266e+10  46391.421875\n",
              "2021-09-09  47031.742188  44344.484375  ...  3.915467e+10  44883.910156\n",
              "2021-09-10  45969.292969  44818.265625  ...  3.449984e+10  45201.457031\n",
              "2021-09-11  46364.878906  44790.460938  ...  2.788198e+10  46063.269531\n",
              "2021-09-13  46234.527344  44268.375000  ...  3.100476e+10  44330.304688\n",
              "\n",
              "[2079 rows x 6 columns]"
            ]
          },
          "metadata": {},
          "execution_count": 41
        }
      ]
    },
    {
      "cell_type": "code",
      "metadata": {
        "id": "6NZIoMenjzVa"
      },
      "source": [
        "data.drop_duplicates(inplace=True)"
      ],
      "execution_count": 42,
      "outputs": []
    },
    {
      "cell_type": "code",
      "metadata": {
        "id": "SnbDz7ILjzVb"
      },
      "source": [
        "data.index = my_arr\n",
        "dictdata = data.to_dict()\n",
        "highs = list(dictdata['High'].values())\n",
        "lows = list(dictdata['Low'].values())\n",
        "opens = list(dictdata['Open'].values())\n",
        "closes = list(dictdata['Close'].values())\n",
        "volumes = list(dictdata['Volume'].values())\n",
        "adjs = list(dictdata['Adj Close'].values())\n",
        "lists = [highs, lows, opens, closes, volumes, adjs]"
      ],
      "execution_count": 43,
      "outputs": []
    },
    {
      "cell_type": "code",
      "metadata": {
        "id": "psFHmCmzjzVc"
      },
      "source": [
        "prev_days = 60"
      ],
      "execution_count": 44,
      "outputs": []
    },
    {
      "cell_type": "code",
      "metadata": {
        "id": "hKWC14sBjzVc",
        "colab": {
          "base_uri": "https://localhost:8080/",
          "height": 419
        },
        "outputId": "c76357fc-ecc2-4281-e2a4-9b156713ea57"
      },
      "source": [
        "data"
      ],
      "execution_count": 45,
      "outputs": [
        {
          "output_type": "execute_result",
          "data": {
            "text/html": [
              "<div>\n",
              "<style scoped>\n",
              "    .dataframe tbody tr th:only-of-type {\n",
              "        vertical-align: middle;\n",
              "    }\n",
              "\n",
              "    .dataframe tbody tr th {\n",
              "        vertical-align: top;\n",
              "    }\n",
              "\n",
              "    .dataframe thead th {\n",
              "        text-align: right;\n",
              "    }\n",
              "</style>\n",
              "<table border=\"1\" class=\"dataframe\">\n",
              "  <thead>\n",
              "    <tr style=\"text-align: right;\">\n",
              "      <th></th>\n",
              "      <th>High</th>\n",
              "      <th>Low</th>\n",
              "      <th>Open</th>\n",
              "      <th>Close</th>\n",
              "      <th>Volume</th>\n",
              "      <th>Adj Close</th>\n",
              "    </tr>\n",
              "  </thead>\n",
              "  <tbody>\n",
              "    <tr>\n",
              "      <th>0</th>\n",
              "      <td>436.246002</td>\n",
              "      <td>427.515015</td>\n",
              "      <td>430.721008</td>\n",
              "      <td>434.334015</td>\n",
              "      <td>3.627890e+07</td>\n",
              "      <td>434.334015</td>\n",
              "    </tr>\n",
              "    <tr>\n",
              "      <th>1</th>\n",
              "      <td>436.062012</td>\n",
              "      <td>431.869995</td>\n",
              "      <td>434.622009</td>\n",
              "      <td>433.437988</td>\n",
              "      <td>3.009660e+07</td>\n",
              "      <td>433.437988</td>\n",
              "    </tr>\n",
              "    <tr>\n",
              "      <th>2</th>\n",
              "      <td>433.743011</td>\n",
              "      <td>424.705994</td>\n",
              "      <td>433.578003</td>\n",
              "      <td>430.010986</td>\n",
              "      <td>3.963380e+07</td>\n",
              "      <td>430.010986</td>\n",
              "    </tr>\n",
              "    <tr>\n",
              "      <th>3</th>\n",
              "      <td>434.516998</td>\n",
              "      <td>429.084015</td>\n",
              "      <td>430.061005</td>\n",
              "      <td>433.091003</td>\n",
              "      <td>3.847750e+07</td>\n",
              "      <td>433.091003</td>\n",
              "    </tr>\n",
              "    <tr>\n",
              "      <th>4</th>\n",
              "      <td>434.182007</td>\n",
              "      <td>429.675995</td>\n",
              "      <td>433.069000</td>\n",
              "      <td>431.959991</td>\n",
              "      <td>3.452260e+07</td>\n",
              "      <td>431.959991</td>\n",
              "    </tr>\n",
              "    <tr>\n",
              "      <th>...</th>\n",
              "      <td>...</td>\n",
              "      <td>...</td>\n",
              "      <td>...</td>\n",
              "      <td>...</td>\n",
              "      <td>...</td>\n",
              "      <td>...</td>\n",
              "    </tr>\n",
              "    <tr>\n",
              "      <th>2074</th>\n",
              "      <td>47261.949219</td>\n",
              "      <td>45669.738281</td>\n",
              "      <td>45774.742188</td>\n",
              "      <td>46391.421875</td>\n",
              "      <td>3.867266e+10</td>\n",
              "      <td>46391.421875</td>\n",
              "    </tr>\n",
              "    <tr>\n",
              "      <th>2075</th>\n",
              "      <td>47031.742188</td>\n",
              "      <td>44344.484375</td>\n",
              "      <td>46396.664062</td>\n",
              "      <td>44883.910156</td>\n",
              "      <td>3.915467e+10</td>\n",
              "      <td>44883.910156</td>\n",
              "    </tr>\n",
              "    <tr>\n",
              "      <th>2076</th>\n",
              "      <td>45969.292969</td>\n",
              "      <td>44818.265625</td>\n",
              "      <td>44869.839844</td>\n",
              "      <td>45201.457031</td>\n",
              "      <td>3.449984e+10</td>\n",
              "      <td>45201.457031</td>\n",
              "    </tr>\n",
              "    <tr>\n",
              "      <th>2077</th>\n",
              "      <td>46364.878906</td>\n",
              "      <td>44790.460938</td>\n",
              "      <td>45206.628906</td>\n",
              "      <td>46063.269531</td>\n",
              "      <td>2.788198e+10</td>\n",
              "      <td>46063.269531</td>\n",
              "    </tr>\n",
              "    <tr>\n",
              "      <th>2078</th>\n",
              "      <td>46234.527344</td>\n",
              "      <td>44268.375000</td>\n",
              "      <td>46114.171875</td>\n",
              "      <td>44330.304688</td>\n",
              "      <td>3.100476e+10</td>\n",
              "      <td>44330.304688</td>\n",
              "    </tr>\n",
              "  </tbody>\n",
              "</table>\n",
              "<p>2079 rows × 6 columns</p>\n",
              "</div>"
            ],
            "text/plain": [
              "              High           Low  ...        Volume     Adj Close\n",
              "0       436.246002    427.515015  ...  3.627890e+07    434.334015\n",
              "1       436.062012    431.869995  ...  3.009660e+07    433.437988\n",
              "2       433.743011    424.705994  ...  3.963380e+07    430.010986\n",
              "3       434.516998    429.084015  ...  3.847750e+07    433.091003\n",
              "4       434.182007    429.675995  ...  3.452260e+07    431.959991\n",
              "...            ...           ...  ...           ...           ...\n",
              "2074  47261.949219  45669.738281  ...  3.867266e+10  46391.421875\n",
              "2075  47031.742188  44344.484375  ...  3.915467e+10  44883.910156\n",
              "2076  45969.292969  44818.265625  ...  3.449984e+10  45201.457031\n",
              "2077  46364.878906  44790.460938  ...  2.788198e+10  46063.269531\n",
              "2078  46234.527344  44268.375000  ...  3.100476e+10  44330.304688\n",
              "\n",
              "[2079 rows x 6 columns]"
            ]
          },
          "metadata": {},
          "execution_count": 45
        }
      ]
    },
    {
      "cell_type": "code",
      "metadata": {
        "id": "COqg8Go1dIdB"
      },
      "source": [
        "train_high = [] \n",
        "train_low = []\n",
        "train_open = []\n",
        "train_close = []\n",
        "train_volume = []\n",
        "train_adj = []\n",
        "\n",
        "out_high = []\n",
        "out_low = []\n",
        "out_open = []\n",
        "out_close = []\n",
        "out_volume = []\n",
        "out_adj = []\n",
        "\n",
        "i = 0"
      ],
      "execution_count": 46,
      "outputs": []
    },
    {
      "cell_type": "code",
      "metadata": {
        "id": "DQtZE7u8kdAn"
      },
      "source": [
        "while i+prev_days < length:\n",
        "    train_high.append(highs[i:i+prev_days])\n",
        "    out_high.append(highs[i+prev_days])\n",
        "\n",
        "    train_low.append(lows[i:i+prev_days])\n",
        "    out_low.append(lows[i+prev_days])\n",
        "\n",
        "    train_open.append(opens[i:i+prev_days])\n",
        "    out_open.append(opens[i+prev_days])\n",
        "\n",
        "    train_close.append(closes[i:i+prev_days])\n",
        "    out_close.append(closes[i+prev_days])\n",
        "\n",
        "    train_volume.append(volumes[i:i+prev_days])\n",
        "    out_volume.append(volumes[i+prev_days])\n",
        "\n",
        "    train_adj.append(adjs[i:i+prev_days])\n",
        "    out_adj.append(adjs[i+prev_days])\n",
        "\n",
        "    i += 1"
      ],
      "execution_count": 47,
      "outputs": []
    },
    {
      "cell_type": "code",
      "metadata": {
        "id": "AqNpKSAQkfrC"
      },
      "source": [
        "train_lists = [train_high, train_low, train_open, train_close, train_volume, train_adj]\n",
        "out_lists = [out_high, out_low, out_open, out_close, out_volume, out_adj] "
      ],
      "execution_count": 48,
      "outputs": []
    },
    {
      "cell_type": "code",
      "metadata": {
        "id": "XoWrsN4shGie"
      },
      "source": [
        "from sklearn.ensemble import GradientBoostingRegressor\n",
        "\n",
        "alpha = 0.95\n",
        "regressor = GradientBoostingRegressor(loss='ls', alpha=alpha,\n",
        "                                n_estimators=750, max_depth=6,\n",
        "                                learning_rate=0.15)"
      ],
      "execution_count": 51,
      "outputs": []
    },
    {
      "cell_type": "code",
      "metadata": {
        "id": "55bM7hvtnMLf"
      },
      "source": [
        "single_train_list = []\n",
        "for i in range(length-prev_days):\n",
        "    single_train_list.append(train_lists[0][i])\n",
        "    single_train_list[i].extend(train_lists[1][i])\n",
        "    single_train_list[i].extend(train_lists[2][i])\n",
        "    single_train_list[i].extend(train_lists[3][i])\n",
        "    single_train_list[i].extend(train_lists[4][i])\n",
        "    single_train_list[i].extend(train_lists[5][i])"
      ],
      "execution_count": 55,
      "outputs": []
    },
    {
      "cell_type": "code",
      "metadata": {
        "id": "0qXc-qoH58vi"
      },
      "source": [
        "from sklearn.model_selection import train_test_split"
      ],
      "execution_count": 56,
      "outputs": []
    },
    {
      "cell_type": "code",
      "metadata": {
        "id": "sSkDUe675xQ5"
      },
      "source": [
        "train_x, test_x, train_y, test_y = train_test_split(single_train_list[:-1], out_close[1:], random_state = 42)"
      ],
      "execution_count": 58,
      "outputs": []
    },
    {
      "cell_type": "code",
      "metadata": {
        "colab": {
          "base_uri": "https://localhost:8080/"
        },
        "id": "I8jVB-bfn7ie",
        "outputId": "f2dd5746-b85c-483b-dba2-c77d8a0c66f4"
      },
      "source": [
        "regressor.fit(train_x, train_y)"
      ],
      "execution_count": 59,
      "outputs": [
        {
          "output_type": "execute_result",
          "data": {
            "text/plain": [
              "GradientBoostingRegressor(alpha=0.95, ccp_alpha=0.0, criterion='friedman_mse',\n",
              "                          init=None, learning_rate=0.15, loss='ls', max_depth=6,\n",
              "                          max_features=None, max_leaf_nodes=None,\n",
              "                          min_impurity_decrease=0.0, min_impurity_split=None,\n",
              "                          min_samples_leaf=1, min_samples_split=2,\n",
              "                          min_weight_fraction_leaf=0.0, n_estimators=750,\n",
              "                          n_iter_no_change=None, presort='deprecated',\n",
              "                          random_state=None, subsample=1.0, tol=0.0001,\n",
              "                          validation_fraction=0.1, verbose=0, warm_start=False)"
            ]
          },
          "metadata": {},
          "execution_count": 59
        }
      ]
    },
    {
      "cell_type": "code",
      "metadata": {
        "colab": {
          "base_uri": "https://localhost:8080/"
        },
        "id": "tlC9ARC9qshF",
        "outputId": "cce2446a-3693-4d82-db8f-8bb6d7483780"
      },
      "source": [
        "regressor.score(test_x, test_y)"
      ],
      "execution_count": 60,
      "outputs": [
        {
          "output_type": "execute_result",
          "data": {
            "text/plain": [
              "0.9940886695112008"
            ]
          },
          "metadata": {},
          "execution_count": 60
        }
      ]
    },
    {
      "cell_type": "code",
      "metadata": {
        "id": "TWdeQvdq67nd",
        "outputId": "2ba269bb-4ff5-4dc9-c1a7-2edd066ac7f5",
        "colab": {
          "base_uri": "https://localhost:8080/",
          "height": 550
        }
      },
      "source": [
        "import matplotlib.pyplot\n",
        "from matplotlib.pyplot import figure\n",
        "figure(figsize=(12, 8), dpi=80)\n",
        "plt.plot(regressor.feature_importances_)"
      ],
      "execution_count": 62,
      "outputs": [
        {
          "output_type": "execute_result",
          "data": {
            "text/plain": [
              "[<matplotlib.lines.Line2D at 0x7f4ead7464d0>]"
            ]
          },
          "metadata": {},
          "execution_count": 62
        },
        {
          "output_type": "display_data",
          "data": {
            "image/png": "[encoded data removed]",
            "text/plain": [
              "<Figure size 960x640 with 1 Axes>"
            ]
          },
          "metadata": {
            "needs_background": "light"
          }
        }
      ]
    },
    {
      "cell_type": "code",
      "metadata": {
        "id": "Cl58BCGl8A0D",
        "outputId": "711c5002-7330-46c7-c38b-fdc2a0178703",
        "colab": {
          "base_uri": "https://localhost:8080/"
        }
      },
      "source": [
        "from sklearn.metrics import mean_squared_error\n",
        "mse = mean_squared_error(test_y, regressor.predict(test_x))\n",
        "print(\"The mean squared error (MSE) on test set: {:.4f}\".format(mse))"
      ],
      "execution_count": 67,
      "outputs": [
        {
          "output_type": "stream",
          "name": "stdout",
          "text": [
            "The mean squared error (MSE) on test set: 983492.5711\n"
          ]
        }
      ]
    },
    {
      "cell_type": "code",
      "metadata": {
        "id": "lLXxOyKP8a7X",
        "outputId": "1bc53065-7a55-487c-c34c-db53998a039f",
        "colab": {
          "base_uri": "https://localhost:8080/",
          "height": 441
        }
      },
      "source": [
        "params = {'loss':'ls', \n",
        "          'alpha':alpha,\n",
        "          'n_estimators':750,\n",
        "          'max_depth':6,\n",
        "          'learning_rate':0.15}\n",
        "\n",
        "test_score = np.zeros((params['n_estimators'],), dtype=np.float64)\n",
        "for i, y_pred in enumerate(regressor.staged_predict(test_x)):\n",
        "    test_score[i] = regressor.loss_(test_y, y_pred)\n",
        "\n",
        "fig = plt.figure(figsize=(6, 6))\n",
        "plt.subplot(1, 1, 1)\n",
        "plt.title('Deviance')\n",
        "plt.plot(np.arange(params['n_estimators']) + 1, regressor.train_score_, 'b-',\n",
        "         label='Training Set Deviance')\n",
        "plt.plot(np.arange(params['n_estimators']) + 1, test_score, 'r-',\n",
        "         label='Test Set Deviance')\n",
        "plt.legend(loc='upper right')\n",
        "plt.xlabel('Boosting Iterations')\n",
        "plt.ylabel('Deviance')\n",
        "fig.tight_layout()\n",
        "plt.show()"
      ],
      "execution_count": 72,
      "outputs": [
        {
          "output_type": "display_data",
          "data": {
            "image/png": "[encoded data removed]",
            "text/plain": [
              "<Figure size 432x432 with 1 Axes>"
            ]
          },
          "metadata": {
            "needs_background": "light"
          }
        }
      ]
    },
    {
      "cell_type": "code",
      "metadata": {
        "id": "Y_LN_Ygs8ifj",
        "outputId": "2917270a-4146-4f8d-a904-0441937a5913",
        "colab": {
          "base_uri": "https://localhost:8080/"
        }
      },
      "source": [
        "regressor.predict(np.array(single_train_list[-1]).reshape(1, -1))"
      ],
      "execution_count": 77,
      "outputs": [
        {
          "output_type": "execute_result",
          "data": {
            "text/plain": [
              "array([45215.88051844])"
            ]
          },
          "metadata": {},
          "execution_count": 77
        }
      ]
    },
    {
      "cell_type": "code",
      "metadata": {
        "id": "hw7J9wan93Mk",
        "outputId": "a91f28da-9a48-4dbd-f6cb-265245c93134",
        "colab": {
          "base_uri": "https://localhost:8080/"
        }
      },
      "source": [
        "out_close[-1]"
      ],
      "execution_count": 75,
      "outputs": [
        {
          "output_type": "execute_result",
          "data": {
            "text/plain": [
              "44330.3046875"
            ]
          },
          "metadata": {},
          "execution_count": 75
        }
      ]
    },
    {
      "cell_type": "code",
      "metadata": {
        "id": "lSWeOBcR-CNE"
      },
      "source": [
        ""
      ],
      "execution_count": null,
      "outputs": []
    }
  ]
}