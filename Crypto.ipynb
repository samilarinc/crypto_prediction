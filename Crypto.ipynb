{
  "nbformat": 4,
  "nbformat_minor": 0,
  "metadata": {
    "kernelspec": {
      "display_name": "Python 3",
      "language": "python",
      "name": "python3"
    },
    "language_info": {
      "codemirror_mode": {
        "name": "ipython",
        "version": 3
      },
      "file_extension": ".py",
      "mimetype": "text/x-python",
      "name": "python",
      "nbconvert_exporter": "python",
      "pygments_lexer": "ipython3",
      "version": "3.8.3"
    },
    "colab": {
      "name": "crypto",
      "provenance": [],
      "collapsed_sections": [],
      "include_colab_link": true
    }
  },
  "cells": [
    {
      "cell_type": "markdown",
      "metadata": {
        "id": "view-in-github",
        "colab_type": "text"
      },
      "source": [
        "<a href=\"https://colab.research.google.com/github/samilarinc/crypto_prediction/blob/master/Crypto.ipynb\" target=\"_parent\"><img src=\"https://colab.research.google.com/assets/colab-badge.svg\" alt=\"Open In Colab\"/></a>"
      ]
    },
    {
      "cell_type": "code",
      "metadata": {
        "id": "6Ocir13vjzVQ"
      },
      "source": [
        "import numpy as np\n",
        "import pandas as pd\n",
        "import matplotlib.pyplot as plt\n",
        "from scipy.spatial.distance import euclidean\n",
        "from scipy import signal\n",
        "import pandas_datareader as web\n",
        "import datetime as dt\n",
        "\n",
        "import sklearn.model_selection\n",
        "\n",
        "import random"
      ],
      "execution_count": 1,
      "outputs": []
    },
    {
      "cell_type": "code",
      "metadata": {
        "id": "DQbjpHy8jzVV"
      },
      "source": [
        "crypto_currency = 'BTC'\n",
        "against_currency = 'USD'\n",
        "\n",
        "start = dt.datetime(2016,1,1)\n",
        "end = dt.datetime.now()"
      ],
      "execution_count": 2,
      "outputs": []
    },
    {
      "cell_type": "code",
      "metadata": {
        "id": "wgm5tp2AkbFh",
        "colab": {
          "base_uri": "https://localhost:8080/",
          "height": 732
        },
        "outputId": "83d78cb4-af2f-4362-a81f-9f74688b110d"
      },
      "source": [
        "!pip install --upgrade pandas\n",
        "!pip install --upgrade pandas-datareader"
      ],
      "execution_count": 1,
      "outputs": [
        {
          "output_type": "stream",
          "name": "stdout",
          "text": [
            "Requirement already satisfied: pandas in /usr/local/lib/python3.7/dist-packages (1.1.5)\n",
            "Collecting pandas\n",
            "  Downloading pandas-1.3.3-cp37-cp37m-manylinux_2_17_x86_64.manylinux2014_x86_64.whl (11.3 MB)\n",
            "\u001b[K     |████████████████████████████████| 11.3 MB 5.4 MB/s \n",
            "\u001b[?25hRequirement already satisfied: pytz>=2017.3 in /usr/local/lib/python3.7/dist-packages (from pandas) (2018.9)\n",
            "Requirement already satisfied: python-dateutil>=2.7.3 in /usr/local/lib/python3.7/dist-packages (from pandas) (2.8.2)\n",
            "Requirement already satisfied: numpy>=1.17.3 in /usr/local/lib/python3.7/dist-packages (from pandas) (1.19.5)\n",
            "Requirement already satisfied: six>=1.5 in /usr/local/lib/python3.7/dist-packages (from python-dateutil>=2.7.3->pandas) (1.15.0)\n",
            "Installing collected packages: pandas\n",
            "  Attempting uninstall: pandas\n",
            "    Found existing installation: pandas 1.1.5\n",
            "    Uninstalling pandas-1.1.5:\n",
            "      Successfully uninstalled pandas-1.1.5\n",
            "\u001b[31mERROR: pip's dependency resolver does not currently take into account all the packages that are installed. This behaviour is the source of the following dependency conflicts.\n",
            "google-colab 1.0.0 requires pandas~=1.1.0; python_version >= \"3.0\", but you have pandas 1.3.3 which is incompatible.\u001b[0m\n",
            "Successfully installed pandas-1.3.3\n"
          ]
        },
        {
          "output_type": "display_data",
          "data": {
            "application/vnd.colab-display-data+json": {
              "pip_warning": {
                "packages": [
                  "pandas"
                ]
              }
            }
          },
          "metadata": {}
        },
        {
          "output_type": "stream",
          "name": "stdout",
          "text": [
            "Requirement already satisfied: pandas-datareader in /usr/local/lib/python3.7/dist-packages (0.9.0)\n",
            "Collecting pandas-datareader\n",
            "  Downloading pandas_datareader-0.10.0-py3-none-any.whl (109 kB)\n",
            "\u001b[K     |████████████████████████████████| 109 kB 5.2 MB/s \n",
            "\u001b[?25hRequirement already satisfied: pandas>=0.23 in /usr/local/lib/python3.7/dist-packages (from pandas-datareader) (1.3.3)\n",
            "Requirement already satisfied: lxml in /usr/local/lib/python3.7/dist-packages (from pandas-datareader) (4.2.6)\n",
            "Requirement already satisfied: requests>=2.19.0 in /usr/local/lib/python3.7/dist-packages (from pandas-datareader) (2.23.0)\n",
            "Requirement already satisfied: python-dateutil>=2.7.3 in /usr/local/lib/python3.7/dist-packages (from pandas>=0.23->pandas-datareader) (2.8.2)\n",
            "Requirement already satisfied: pytz>=2017.3 in /usr/local/lib/python3.7/dist-packages (from pandas>=0.23->pandas-datareader) (2018.9)\n",
            "Requirement already satisfied: numpy>=1.17.3 in /usr/local/lib/python3.7/dist-packages (from pandas>=0.23->pandas-datareader) (1.19.5)\n",
            "Requirement already satisfied: six>=1.5 in /usr/local/lib/python3.7/dist-packages (from python-dateutil>=2.7.3->pandas>=0.23->pandas-datareader) (1.15.0)\n",
            "Requirement already satisfied: chardet<4,>=3.0.2 in /usr/local/lib/python3.7/dist-packages (from requests>=2.19.0->pandas-datareader) (3.0.4)\n",
            "Requirement already satisfied: idna<3,>=2.5 in /usr/local/lib/python3.7/dist-packages (from requests>=2.19.0->pandas-datareader) (2.10)\n",
            "Requirement already satisfied: urllib3!=1.25.0,!=1.25.1,<1.26,>=1.21.1 in /usr/local/lib/python3.7/dist-packages (from requests>=2.19.0->pandas-datareader) (1.24.3)\n",
            "Requirement already satisfied: certifi>=2017.4.17 in /usr/local/lib/python3.7/dist-packages (from requests>=2.19.0->pandas-datareader) (2021.5.30)\n",
            "Installing collected packages: pandas-datareader\n",
            "  Attempting uninstall: pandas-datareader\n",
            "    Found existing installation: pandas-datareader 0.9.0\n",
            "    Uninstalling pandas-datareader-0.9.0:\n",
            "      Successfully uninstalled pandas-datareader-0.9.0\n",
            "Successfully installed pandas-datareader-0.10.0\n"
          ]
        }
      ]
    },
    {
      "cell_type": "code",
      "metadata": {
        "id": "pzkyAN57jzVW"
      },
      "source": [
        "data = web.DataReader(f'{crypto_currency}-{against_currency}', 'yahoo', start, end)"
      ],
      "execution_count": 3,
      "outputs": []
    },
    {
      "cell_type": "code",
      "metadata": {
        "id": "3qvAoZi6jzVX",
        "colab": {
          "base_uri": "https://localhost:8080/"
        },
        "outputId": "091153a9-1be5-4379-b9fb-531b4c9d210b"
      },
      "source": [
        "data.keys()"
      ],
      "execution_count": 4,
      "outputs": [
        {
          "output_type": "execute_result",
          "data": {
            "text/plain": [
              "Index(['High', 'Low', 'Open', 'Close', 'Volume', 'Adj Close'], dtype='object')"
            ]
          },
          "metadata": {},
          "execution_count": 4
        }
      ]
    },
    {
      "cell_type": "code",
      "metadata": {
        "id": "cMzce906jzVY"
      },
      "source": [
        "length = len(data['High'])"
      ],
      "execution_count": 5,
      "outputs": []
    },
    {
      "cell_type": "code",
      "metadata": {
        "id": "OO4G8fMGjzVZ"
      },
      "source": [
        "my_arr = list()\n",
        "for i in range(length):\n",
        "    my_arr.append(i)"
      ],
      "execution_count": 6,
      "outputs": []
    },
    {
      "cell_type": "code",
      "metadata": {
        "id": "_4GIWxzljzVZ",
        "colab": {
          "base_uri": "https://localhost:8080/",
          "height": 450
        },
        "outputId": "e0c28314-88fb-4ec8-d595-264521ff0fa9"
      },
      "source": [
        "data"
      ],
      "execution_count": 7,
      "outputs": [
        {
          "output_type": "execute_result",
          "data": {
            "text/html": [
              "<div>\n",
              "<style scoped>\n",
              "    .dataframe tbody tr th:only-of-type {\n",
              "        vertical-align: middle;\n",
              "    }\n",
              "\n",
              "    .dataframe tbody tr th {\n",
              "        vertical-align: top;\n",
              "    }\n",
              "\n",
              "    .dataframe thead th {\n",
              "        text-align: right;\n",
              "    }\n",
              "</style>\n",
              "<table border=\"1\" class=\"dataframe\">\n",
              "  <thead>\n",
              "    <tr style=\"text-align: right;\">\n",
              "      <th></th>\n",
              "      <th>High</th>\n",
              "      <th>Low</th>\n",
              "      <th>Open</th>\n",
              "      <th>Close</th>\n",
              "      <th>Volume</th>\n",
              "      <th>Adj Close</th>\n",
              "    </tr>\n",
              "    <tr>\n",
              "      <th>Date</th>\n",
              "      <th></th>\n",
              "      <th></th>\n",
              "      <th></th>\n",
              "      <th></th>\n",
              "      <th></th>\n",
              "      <th></th>\n",
              "    </tr>\n",
              "  </thead>\n",
              "  <tbody>\n",
              "    <tr>\n",
              "      <th>2016-01-01</th>\n",
              "      <td>436.246002</td>\n",
              "      <td>427.515015</td>\n",
              "      <td>430.721008</td>\n",
              "      <td>434.334015</td>\n",
              "      <td>3.627890e+07</td>\n",
              "      <td>434.334015</td>\n",
              "    </tr>\n",
              "    <tr>\n",
              "      <th>2016-01-02</th>\n",
              "      <td>436.062012</td>\n",
              "      <td>431.869995</td>\n",
              "      <td>434.622009</td>\n",
              "      <td>433.437988</td>\n",
              "      <td>3.009660e+07</td>\n",
              "      <td>433.437988</td>\n",
              "    </tr>\n",
              "    <tr>\n",
              "      <th>2016-01-03</th>\n",
              "      <td>433.743011</td>\n",
              "      <td>424.705994</td>\n",
              "      <td>433.578003</td>\n",
              "      <td>430.010986</td>\n",
              "      <td>3.963380e+07</td>\n",
              "      <td>430.010986</td>\n",
              "    </tr>\n",
              "    <tr>\n",
              "      <th>2016-01-04</th>\n",
              "      <td>434.516998</td>\n",
              "      <td>429.084015</td>\n",
              "      <td>430.061005</td>\n",
              "      <td>433.091003</td>\n",
              "      <td>3.847750e+07</td>\n",
              "      <td>433.091003</td>\n",
              "    </tr>\n",
              "    <tr>\n",
              "      <th>2016-01-05</th>\n",
              "      <td>434.182007</td>\n",
              "      <td>429.675995</td>\n",
              "      <td>433.069000</td>\n",
              "      <td>431.959991</td>\n",
              "      <td>3.452260e+07</td>\n",
              "      <td>431.959991</td>\n",
              "    </tr>\n",
              "    <tr>\n",
              "      <th>...</th>\n",
              "      <td>...</td>\n",
              "      <td>...</td>\n",
              "      <td>...</td>\n",
              "      <td>...</td>\n",
              "      <td>...</td>\n",
              "      <td>...</td>\n",
              "    </tr>\n",
              "    <tr>\n",
              "      <th>2021-09-30</th>\n",
              "      <td>48436.011719</td>\n",
              "      <td>43320.023438</td>\n",
              "      <td>43816.742188</td>\n",
              "      <td>48116.941406</td>\n",
              "      <td>4.285064e+10</td>\n",
              "      <td>48116.941406</td>\n",
              "    </tr>\n",
              "    <tr>\n",
              "      <th>2021-10-01</th>\n",
              "      <td>48282.062500</td>\n",
              "      <td>47465.496094</td>\n",
              "      <td>48137.468750</td>\n",
              "      <td>47711.488281</td>\n",
              "      <td>3.061435e+10</td>\n",
              "      <td>47711.488281</td>\n",
              "    </tr>\n",
              "    <tr>\n",
              "      <th>2021-10-02</th>\n",
              "      <td>49130.691406</td>\n",
              "      <td>47157.289062</td>\n",
              "      <td>47680.027344</td>\n",
              "      <td>48199.953125</td>\n",
              "      <td>2.663812e+10</td>\n",
              "      <td>48199.953125</td>\n",
              "    </tr>\n",
              "    <tr>\n",
              "      <th>2021-10-03</th>\n",
              "      <td>49456.777344</td>\n",
              "      <td>47045.003906</td>\n",
              "      <td>48208.906250</td>\n",
              "      <td>49112.902344</td>\n",
              "      <td>3.338317e+10</td>\n",
              "      <td>49112.902344</td>\n",
              "    </tr>\n",
              "    <tr>\n",
              "      <th>2021-10-05</th>\n",
              "      <td>50325.066406</td>\n",
              "      <td>49119.136719</td>\n",
              "      <td>49164.750000</td>\n",
              "      <td>49786.691406</td>\n",
              "      <td>3.511635e+10</td>\n",
              "      <td>49786.691406</td>\n",
              "    </tr>\n",
              "  </tbody>\n",
              "</table>\n",
              "<p>2101 rows × 6 columns</p>\n",
              "</div>"
            ],
            "text/plain": [
              "                    High           Low  ...        Volume     Adj Close\n",
              "Date                                    ...                            \n",
              "2016-01-01    436.246002    427.515015  ...  3.627890e+07    434.334015\n",
              "2016-01-02    436.062012    431.869995  ...  3.009660e+07    433.437988\n",
              "2016-01-03    433.743011    424.705994  ...  3.963380e+07    430.010986\n",
              "2016-01-04    434.516998    429.084015  ...  3.847750e+07    433.091003\n",
              "2016-01-05    434.182007    429.675995  ...  3.452260e+07    431.959991\n",
              "...                  ...           ...  ...           ...           ...\n",
              "2021-09-30  48436.011719  43320.023438  ...  4.285064e+10  48116.941406\n",
              "2021-10-01  48282.062500  47465.496094  ...  3.061435e+10  47711.488281\n",
              "2021-10-02  49130.691406  47157.289062  ...  2.663812e+10  48199.953125\n",
              "2021-10-03  49456.777344  47045.003906  ...  3.338317e+10  49112.902344\n",
              "2021-10-05  50325.066406  49119.136719  ...  3.511635e+10  49786.691406\n",
              "\n",
              "[2101 rows x 6 columns]"
            ]
          },
          "metadata": {},
          "execution_count": 7
        }
      ]
    },
    {
      "cell_type": "code",
      "metadata": {
        "id": "6NZIoMenjzVa"
      },
      "source": [
        "data.drop_duplicates(inplace=True)"
      ],
      "execution_count": 8,
      "outputs": []
    },
    {
      "cell_type": "code",
      "metadata": {
        "id": "SnbDz7ILjzVb"
      },
      "source": [
        "data.index = my_arr\n",
        "dictdata = data.to_dict()\n",
        "highs = list(dictdata['High'].values())\n",
        "lows = list(dictdata['Low'].values())\n",
        "opens = list(dictdata['Open'].values())\n",
        "closes = list(dictdata['Close'].values())\n",
        "volumes = list(dictdata['Volume'].values())\n",
        "adjs = list(dictdata['Adj Close'].values())\n",
        "lists = [highs, lows, opens, closes, volumes, adjs]"
      ],
      "execution_count": 9,
      "outputs": []
    },
    {
      "cell_type": "code",
      "metadata": {
        "id": "psFHmCmzjzVc"
      },
      "source": [
        "prev_days = 60"
      ],
      "execution_count": 10,
      "outputs": []
    },
    {
      "cell_type": "code",
      "metadata": {
        "id": "hKWC14sBjzVc",
        "colab": {
          "base_uri": "https://localhost:8080/",
          "height": 419
        },
        "outputId": "ad7eb97f-47d5-4db1-cb55-c7536cad5370"
      },
      "source": [
        "data"
      ],
      "execution_count": 11,
      "outputs": [
        {
          "output_type": "execute_result",
          "data": {
            "text/html": [
              "<div>\n",
              "<style scoped>\n",
              "    .dataframe tbody tr th:only-of-type {\n",
              "        vertical-align: middle;\n",
              "    }\n",
              "\n",
              "    .dataframe tbody tr th {\n",
              "        vertical-align: top;\n",
              "    }\n",
              "\n",
              "    .dataframe thead th {\n",
              "        text-align: right;\n",
              "    }\n",
              "</style>\n",
              "<table border=\"1\" class=\"dataframe\">\n",
              "  <thead>\n",
              "    <tr style=\"text-align: right;\">\n",
              "      <th></th>\n",
              "      <th>High</th>\n",
              "      <th>Low</th>\n",
              "      <th>Open</th>\n",
              "      <th>Close</th>\n",
              "      <th>Volume</th>\n",
              "      <th>Adj Close</th>\n",
              "    </tr>\n",
              "  </thead>\n",
              "  <tbody>\n",
              "    <tr>\n",
              "      <th>0</th>\n",
              "      <td>436.246002</td>\n",
              "      <td>427.515015</td>\n",
              "      <td>430.721008</td>\n",
              "      <td>434.334015</td>\n",
              "      <td>3.627890e+07</td>\n",
              "      <td>434.334015</td>\n",
              "    </tr>\n",
              "    <tr>\n",
              "      <th>1</th>\n",
              "      <td>436.062012</td>\n",
              "      <td>431.869995</td>\n",
              "      <td>434.622009</td>\n",
              "      <td>433.437988</td>\n",
              "      <td>3.009660e+07</td>\n",
              "      <td>433.437988</td>\n",
              "    </tr>\n",
              "    <tr>\n",
              "      <th>2</th>\n",
              "      <td>433.743011</td>\n",
              "      <td>424.705994</td>\n",
              "      <td>433.578003</td>\n",
              "      <td>430.010986</td>\n",
              "      <td>3.963380e+07</td>\n",
              "      <td>430.010986</td>\n",
              "    </tr>\n",
              "    <tr>\n",
              "      <th>3</th>\n",
              "      <td>434.516998</td>\n",
              "      <td>429.084015</td>\n",
              "      <td>430.061005</td>\n",
              "      <td>433.091003</td>\n",
              "      <td>3.847750e+07</td>\n",
              "      <td>433.091003</td>\n",
              "    </tr>\n",
              "    <tr>\n",
              "      <th>4</th>\n",
              "      <td>434.182007</td>\n",
              "      <td>429.675995</td>\n",
              "      <td>433.069000</td>\n",
              "      <td>431.959991</td>\n",
              "      <td>3.452260e+07</td>\n",
              "      <td>431.959991</td>\n",
              "    </tr>\n",
              "    <tr>\n",
              "      <th>...</th>\n",
              "      <td>...</td>\n",
              "      <td>...</td>\n",
              "      <td>...</td>\n",
              "      <td>...</td>\n",
              "      <td>...</td>\n",
              "      <td>...</td>\n",
              "    </tr>\n",
              "    <tr>\n",
              "      <th>2096</th>\n",
              "      <td>48436.011719</td>\n",
              "      <td>43320.023438</td>\n",
              "      <td>43816.742188</td>\n",
              "      <td>48116.941406</td>\n",
              "      <td>4.285064e+10</td>\n",
              "      <td>48116.941406</td>\n",
              "    </tr>\n",
              "    <tr>\n",
              "      <th>2097</th>\n",
              "      <td>48282.062500</td>\n",
              "      <td>47465.496094</td>\n",
              "      <td>48137.468750</td>\n",
              "      <td>47711.488281</td>\n",
              "      <td>3.061435e+10</td>\n",
              "      <td>47711.488281</td>\n",
              "    </tr>\n",
              "    <tr>\n",
              "      <th>2098</th>\n",
              "      <td>49130.691406</td>\n",
              "      <td>47157.289062</td>\n",
              "      <td>47680.027344</td>\n",
              "      <td>48199.953125</td>\n",
              "      <td>2.663812e+10</td>\n",
              "      <td>48199.953125</td>\n",
              "    </tr>\n",
              "    <tr>\n",
              "      <th>2099</th>\n",
              "      <td>49456.777344</td>\n",
              "      <td>47045.003906</td>\n",
              "      <td>48208.906250</td>\n",
              "      <td>49112.902344</td>\n",
              "      <td>3.338317e+10</td>\n",
              "      <td>49112.902344</td>\n",
              "    </tr>\n",
              "    <tr>\n",
              "      <th>2100</th>\n",
              "      <td>50325.066406</td>\n",
              "      <td>49119.136719</td>\n",
              "      <td>49164.750000</td>\n",
              "      <td>49786.691406</td>\n",
              "      <td>3.511635e+10</td>\n",
              "      <td>49786.691406</td>\n",
              "    </tr>\n",
              "  </tbody>\n",
              "</table>\n",
              "<p>2101 rows × 6 columns</p>\n",
              "</div>"
            ],
            "text/plain": [
              "              High           Low  ...        Volume     Adj Close\n",
              "0       436.246002    427.515015  ...  3.627890e+07    434.334015\n",
              "1       436.062012    431.869995  ...  3.009660e+07    433.437988\n",
              "2       433.743011    424.705994  ...  3.963380e+07    430.010986\n",
              "3       434.516998    429.084015  ...  3.847750e+07    433.091003\n",
              "4       434.182007    429.675995  ...  3.452260e+07    431.959991\n",
              "...            ...           ...  ...           ...           ...\n",
              "2096  48436.011719  43320.023438  ...  4.285064e+10  48116.941406\n",
              "2097  48282.062500  47465.496094  ...  3.061435e+10  47711.488281\n",
              "2098  49130.691406  47157.289062  ...  2.663812e+10  48199.953125\n",
              "2099  49456.777344  47045.003906  ...  3.338317e+10  49112.902344\n",
              "2100  50325.066406  49119.136719  ...  3.511635e+10  49786.691406\n",
              "\n",
              "[2101 rows x 6 columns]"
            ]
          },
          "metadata": {},
          "execution_count": 11
        }
      ]
    },
    {
      "cell_type": "code",
      "metadata": {
        "id": "COqg8Go1dIdB"
      },
      "source": [
        "train_high = [] \n",
        "train_low = []\n",
        "train_open = []\n",
        "train_close = []\n",
        "train_volume = []\n",
        "train_adj = []\n",
        "\n",
        "out_high = []\n",
        "out_low = []\n",
        "out_open = []\n",
        "out_close = []\n",
        "out_volume = []\n",
        "out_adj = []\n",
        "\n",
        "i = 0"
      ],
      "execution_count": 12,
      "outputs": []
    },
    {
      "cell_type": "code",
      "metadata": {
        "id": "DQtZE7u8kdAn"
      },
      "source": [
        "while i+prev_days < length:\n",
        "    train_high.append(highs[i:i+prev_days])\n",
        "    out_high.append(highs[i+prev_days])\n",
        "\n",
        "    train_low.append(lows[i:i+prev_days])\n",
        "    out_low.append(lows[i+prev_days])\n",
        "\n",
        "    train_open.append(opens[i:i+prev_days])\n",
        "    out_open.append(opens[i+prev_days])\n",
        "\n",
        "    train_close.append(closes[i:i+prev_days])\n",
        "    out_close.append(closes[i+prev_days])\n",
        "\n",
        "    train_volume.append(volumes[i:i+prev_days])\n",
        "    out_volume.append(volumes[i+prev_days])\n",
        "\n",
        "    train_adj.append(adjs[i:i+prev_days])\n",
        "    out_adj.append(adjs[i+prev_days])\n",
        "\n",
        "    i += 1"
      ],
      "execution_count": 13,
      "outputs": []
    },
    {
      "cell_type": "code",
      "metadata": {
        "id": "AqNpKSAQkfrC"
      },
      "source": [
        "train_lists = [train_high, train_low, train_open, train_close, train_volume, train_adj]\n",
        "out_lists = [out_high, out_low, out_open, out_close, out_volume, out_adj] "
      ],
      "execution_count": 14,
      "outputs": []
    },
    {
      "cell_type": "code",
      "metadata": {
        "id": "XoWrsN4shGie"
      },
      "source": [
        "from sklearn.ensemble import GradientBoostingRegressor\n",
        "\n",
        "alpha = 0.95\n",
        "regressor = GradientBoostingRegressor(loss='ls', alpha=alpha,\n",
        "                                n_estimators=750, max_depth=6,\n",
        "                                learning_rate=0.15)"
      ],
      "execution_count": 15,
      "outputs": []
    },
    {
      "cell_type": "code",
      "metadata": {
        "id": "55bM7hvtnMLf"
      },
      "source": [
        "single_train_list = []\n",
        "for i in range(length-prev_days):\n",
        "    single_train_list.append(train_lists[0][i])\n",
        "    single_train_list[i].extend(train_lists[1][i])\n",
        "    single_train_list[i].extend(train_lists[2][i])\n",
        "    single_train_list[i].extend(train_lists[3][i])\n",
        "    single_train_list[i].extend(train_lists[4][i])\n",
        "    single_train_list[i].extend(train_lists[5][i])"
      ],
      "execution_count": 16,
      "outputs": []
    },
    {
      "cell_type": "code",
      "metadata": {
        "id": "0qXc-qoH58vi"
      },
      "source": [
        "from sklearn.model_selection import train_test_split"
      ],
      "execution_count": 17,
      "outputs": []
    },
    {
      "cell_type": "code",
      "metadata": {
        "id": "sSkDUe675xQ5"
      },
      "source": [
        "train_x, test_x, train_y, test_y = train_test_split(single_train_list[:-1], out_close[1:], random_state = 42)"
      ],
      "execution_count": 18,
      "outputs": []
    },
    {
      "cell_type": "code",
      "metadata": {
        "colab": {
          "base_uri": "https://localhost:8080/"
        },
        "id": "I8jVB-bfn7ie",
        "outputId": "814c8052-25ee-4d52-d782-579d344bb6cd"
      },
      "source": [
        "regressor.fit(train_x, train_y)"
      ],
      "execution_count": 19,
      "outputs": [
        {
          "output_type": "execute_result",
          "data": {
            "text/plain": [
              "GradientBoostingRegressor(alpha=0.95, ccp_alpha=0.0, criterion='friedman_mse',\n",
              "                          init=None, learning_rate=0.15, loss='ls', max_depth=6,\n",
              "                          max_features=None, max_leaf_nodes=None,\n",
              "                          min_impurity_decrease=0.0, min_impurity_split=None,\n",
              "                          min_samples_leaf=1, min_samples_split=2,\n",
              "                          min_weight_fraction_leaf=0.0, n_estimators=750,\n",
              "                          n_iter_no_change=None, presort='deprecated',\n",
              "                          random_state=None, subsample=1.0, tol=0.0001,\n",
              "                          validation_fraction=0.1, verbose=0, warm_start=False)"
            ]
          },
          "metadata": {},
          "execution_count": 19
        }
      ]
    },
    {
      "cell_type": "code",
      "metadata": {
        "colab": {
          "base_uri": "https://localhost:8080/"
        },
        "id": "tlC9ARC9qshF",
        "outputId": "1ee49816-f529-4067-bb5b-81dcca66521a"
      },
      "source": [
        "regressor.score(test_x, test_y)"
      ],
      "execution_count": 20,
      "outputs": [
        {
          "output_type": "execute_result",
          "data": {
            "text/plain": [
              "0.9952532210123574"
            ]
          },
          "metadata": {},
          "execution_count": 20
        }
      ]
    },
    {
      "cell_type": "code",
      "metadata": {
        "id": "TWdeQvdq67nd",
        "colab": {
          "base_uri": "https://localhost:8080/",
          "height": 550
        },
        "outputId": "15f07962-e8cb-4343-9093-a3d4ec0a444d"
      },
      "source": [
        "import matplotlib.pyplot\n",
        "from matplotlib.pyplot import figure\n",
        "figure(figsize=(12, 8), dpi=80)\n",
        "plt.plot(regressor.feature_importances_)"
      ],
      "execution_count": 21,
      "outputs": [
        {
          "output_type": "execute_result",
          "data": {
            "text/plain": [
              "[<matplotlib.lines.Line2D at 0x7fd1bcd2e3d0>]"
            ]
          },
          "metadata": {},
          "execution_count": 21
        },
        {
          "output_type": "display_data",
          "data": {
            "image/png": "[encoded data removed]",
            "text/plain": [
              "<Figure size 960x640 with 1 Axes>"
            ]
          },
          "metadata": {
            "needs_background": "light"
          }
        }
      ]
    },
    {
      "cell_type": "code",
      "metadata": {
        "id": "Cl58BCGl8A0D",
        "colab": {
          "base_uri": "https://localhost:8080/"
        },
        "outputId": "6f726df6-6633-43e0-8f42-0c9408cd627a"
      },
      "source": [
        "from sklearn.metrics import mean_squared_error\n",
        "mse = mean_squared_error(test_y, regressor.predict(test_x))\n",
        "print(\"The mean squared error (MSE) on test set: {:.4f}\".format(mse))"
      ],
      "execution_count": 22,
      "outputs": [
        {
          "output_type": "stream",
          "name": "stdout",
          "text": [
            "The mean squared error (MSE) on test set: 941778.2236\n"
          ]
        }
      ]
    },
    {
      "cell_type": "code",
      "metadata": {
        "id": "lLXxOyKP8a7X",
        "colab": {
          "base_uri": "https://localhost:8080/",
          "height": 441
        },
        "outputId": "1b60c389-0cc8-4019-ba6a-3a355daf11dd"
      },
      "source": [
        "params = {'loss':'ls', \n",
        "          'alpha':alpha,\n",
        "          'n_estimators':750,\n",
        "          'max_depth':6,\n",
        "          'learning_rate':0.15}\n",
        "\n",
        "test_score = np.zeros((params['n_estimators'],), dtype=np.float64)\n",
        "for i, y_pred in enumerate(regressor.staged_predict(test_x)):\n",
        "    test_score[i] = regressor.loss_(test_y, y_pred)\n",
        "\n",
        "fig = plt.figure(figsize=(6, 6))\n",
        "plt.subplot(1, 1, 1)\n",
        "plt.title('Deviance')\n",
        "plt.plot(np.arange(params['n_estimators']) + 1, regressor.train_score_, 'b-',\n",
        "         label='Training Set Deviance')\n",
        "plt.plot(np.arange(params['n_estimators']) + 1, test_score, 'r-',\n",
        "         label='Test Set Deviance')\n",
        "plt.legend(loc='upper right')\n",
        "plt.xlabel('Boosting Iterations')\n",
        "plt.ylabel('Deviance')\n",
        "fig.tight_layout()\n",
        "plt.show()"
      ],
      "execution_count": 28,
      "outputs": [
        {
          "output_type": "display_data",
          "data": {
            "image/png": "[encoded data removed]",
            "text/plain": [
              "<Figure size 432x432 with 1 Axes>"
            ]
          },
          "metadata": {
            "needs_background": "light"
          }
        }
      ]
    },
    {
      "cell_type": "code",
      "metadata": {
        "id": "Y_LN_Ygs8ifj",
        "colab": {
          "base_uri": "https://localhost:8080/"
        },
        "outputId": "f5a81726-543a-452a-e211-1d53ceceb3b8"
      },
      "source": [
        "regressor.predict(np.array(single_train_list[-1]).reshape(1, -1))"
      ],
      "execution_count": 27,
      "outputs": [
        {
          "output_type": "execute_result",
          "data": {
            "text/plain": [
              "array([49029.6529396])"
            ]
          },
          "metadata": {},
          "execution_count": 27
        }
      ]
    },
    {
      "cell_type": "code",
      "metadata": {
        "id": "hw7J9wan93Mk",
        "colab": {
          "base_uri": "https://localhost:8080/"
        },
        "outputId": "a30f6129-3a20-46df-a573-ddabc5f21b6f"
      },
      "source": [
        "out_close[-1]"
      ],
      "execution_count": 25,
      "outputs": [
        {
          "output_type": "execute_result",
          "data": {
            "text/plain": [
              "49786.69140625"
            ]
          },
          "metadata": {},
          "execution_count": 25
        }
      ]
    },
    {
      "cell_type": "code",
      "metadata": {
        "id": "lSWeOBcR-CNE"
      },
      "source": [
        "import pickle \n",
        "with open('dump.pkl', 'wb') as f:\n",
        "    pickle.dump(regressor, f)"
      ],
      "execution_count": 31,
      "outputs": []
    },
    {
      "cell_type": "code",
      "metadata": {
        "id": "l38VbQhOlMnm",
        "outputId": "cbb1206e-42c6-4b71-c98c-cf32c726184a",
        "colab": {
          "base_uri": "https://localhost:8080/"
        }
      },
      "source": [
        "from sklearn.externals import joblib\n",
        "regressor = joblib.load('dump.pkl')"
      ],
      "execution_count": 32,
      "outputs": [
        {
          "output_type": "stream",
          "name": "stderr",
          "text": [
            "/usr/local/lib/python3.7/dist-packages/sklearn/externals/joblib/__init__.py:15: FutureWarning: sklearn.externals.joblib is deprecated in 0.21 and will be removed in 0.23. Please import this functionality directly from joblib, which can be installed with: pip install joblib. If this warning is raised when loading pickled models, you may need to re-serialize those models with scikit-learn 0.21+.\n",
            "  warnings.warn(msg, category=FutureWarning)\n"
          ]
        }
      ]
    },
    {
      "cell_type": "code",
      "metadata": {
        "id": "pu5gNm7UmBGH"
      },
      "source": [
        ""
      ],
      "execution_count": null,
      "outputs": []
    }
  ]
}