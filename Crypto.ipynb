{
  "nbformat": 4,
  "nbformat_minor": 0,
  "metadata": {
    "kernelspec": {
      "display_name": "Python 3",
      "language": "python",
      "name": "python3"
    },
    "language_info": {
      "codemirror_mode": {
        "name": "ipython",
        "version": 3
      },
      "file_extension": ".py",
      "mimetype": "text/x-python",
      "name": "python",
      "nbconvert_exporter": "python",
      "pygments_lexer": "ipython3",
      "version": "3.8.3"
    },
    "colab": {
      "name": "Crypto.ipynb adlı not defterinin kopyası",
      "provenance": [],
      "collapsed_sections": []
    }
  },
  "cells": [
    {
      "cell_type": "code",
      "metadata": {
        "id": "6Ocir13vjzVQ"
      },
      "source": [
        "import numpy as np\n",
        "import pandas as pd\n",
        "import matplotlib.pyplot as plt\n",
        "from scipy.spatial.distance import euclidean\n",
        "from scipy import signal\n",
        "import pandas_datareader as web\n",
        "import datetime as dt\n",
        "\n",
        "import sklearn.model_selection\n",
        "\n",
        "import random"
      ],
      "execution_count": 2,
      "outputs": []
    },
    {
      "cell_type": "code",
      "metadata": {
        "id": "DQbjpHy8jzVV"
      },
      "source": [
        "crypto_currency = 'BTC'\n",
        "against_currency = 'USD'\n",
        "\n",
        "start = dt.datetime(2016,1,1)\n",
        "end = dt.datetime.now()"
      ],
      "execution_count": 55,
      "outputs": []
    },
    {
      "cell_type": "code",
      "metadata": {
        "id": "wgm5tp2AkbFh"
      },
      "source": [
        "!pip install --upgrade pandas\n",
        "!pip install --upgrade pandas-datareader"
      ],
      "execution_count": null,
      "outputs": []
    },
    {
      "cell_type": "code",
      "metadata": {
        "id": "pzkyAN57jzVW"
      },
      "source": [
        "data = web.DataReader(f'{crypto_currency}-{against_currency}', 'yahoo', start, end)"
      ],
      "execution_count": 56,
      "outputs": []
    },
    {
      "cell_type": "code",
      "metadata": {
        "id": "3qvAoZi6jzVX",
        "colab": {
          "base_uri": "https://localhost:8080/"
        },
        "outputId": "ba209459-6a7a-4e1b-e1dd-e64ba81acc5a"
      },
      "source": [
        "data.keys()"
      ],
      "execution_count": 14,
      "outputs": [
        {
          "output_type": "execute_result",
          "data": {
            "text/plain": [
              "Index(['High', 'Low', 'Open', 'Close', 'Volume', 'Adj Close'], dtype='object')"
            ]
          },
          "metadata": {},
          "execution_count": 14
        }
      ]
    },
    {
      "cell_type": "code",
      "metadata": {
        "id": "cMzce906jzVY"
      },
      "source": [
        "length = len(data['High'])"
      ],
      "execution_count": 58,
      "outputs": []
    },
    {
      "cell_type": "code",
      "metadata": {
        "id": "OO4G8fMGjzVZ"
      },
      "source": [
        "my_arr = list()\n",
        "for i in range(length):\n",
        "    my_arr.append(i)\n",
        "    "
      ],
      "execution_count": 59,
      "outputs": []
    },
    {
      "cell_type": "code",
      "metadata": {
        "id": "_4GIWxzljzVZ",
        "colab": {
          "base_uri": "https://localhost:8080/",
          "height": 450
        },
        "outputId": "45eeb796-bdfe-4875-9f1e-cbf8d53f8ecc"
      },
      "source": [
        "data"
      ],
      "execution_count": 60,
      "outputs": [
        {
          "output_type": "execute_result",
          "data": {
            "text/html": [
              "<div>\n",
              "<style scoped>\n",
              "    .dataframe tbody tr th:only-of-type {\n",
              "        vertical-align: middle;\n",
              "    }\n",
              "\n",
              "    .dataframe tbody tr th {\n",
              "        vertical-align: top;\n",
              "    }\n",
              "\n",
              "    .dataframe thead th {\n",
              "        text-align: right;\n",
              "    }\n",
              "</style>\n",
              "<table border=\"1\" class=\"dataframe\">\n",
              "  <thead>\n",
              "    <tr style=\"text-align: right;\">\n",
              "      <th></th>\n",
              "      <th>High</th>\n",
              "      <th>Low</th>\n",
              "      <th>Open</th>\n",
              "      <th>Close</th>\n",
              "      <th>Volume</th>\n",
              "      <th>Adj Close</th>\n",
              "    </tr>\n",
              "    <tr>\n",
              "      <th>Date</th>\n",
              "      <th></th>\n",
              "      <th></th>\n",
              "      <th></th>\n",
              "      <th></th>\n",
              "      <th></th>\n",
              "      <th></th>\n",
              "    </tr>\n",
              "  </thead>\n",
              "  <tbody>\n",
              "    <tr>\n",
              "      <th>2016-01-01</th>\n",
              "      <td>436.246002</td>\n",
              "      <td>427.515015</td>\n",
              "      <td>430.721008</td>\n",
              "      <td>434.334015</td>\n",
              "      <td>3.627890e+07</td>\n",
              "      <td>434.334015</td>\n",
              "    </tr>\n",
              "    <tr>\n",
              "      <th>2016-01-02</th>\n",
              "      <td>436.062012</td>\n",
              "      <td>431.869995</td>\n",
              "      <td>434.622009</td>\n",
              "      <td>433.437988</td>\n",
              "      <td>3.009660e+07</td>\n",
              "      <td>433.437988</td>\n",
              "    </tr>\n",
              "    <tr>\n",
              "      <th>2016-01-03</th>\n",
              "      <td>433.743011</td>\n",
              "      <td>424.705994</td>\n",
              "      <td>433.578003</td>\n",
              "      <td>430.010986</td>\n",
              "      <td>3.963380e+07</td>\n",
              "      <td>430.010986</td>\n",
              "    </tr>\n",
              "    <tr>\n",
              "      <th>2016-01-04</th>\n",
              "      <td>434.516998</td>\n",
              "      <td>429.084015</td>\n",
              "      <td>430.061005</td>\n",
              "      <td>433.091003</td>\n",
              "      <td>3.847750e+07</td>\n",
              "      <td>433.091003</td>\n",
              "    </tr>\n",
              "    <tr>\n",
              "      <th>2016-01-05</th>\n",
              "      <td>434.182007</td>\n",
              "      <td>429.675995</td>\n",
              "      <td>433.069000</td>\n",
              "      <td>431.959991</td>\n",
              "      <td>3.452260e+07</td>\n",
              "      <td>431.959991</td>\n",
              "    </tr>\n",
              "    <tr>\n",
              "      <th>...</th>\n",
              "      <td>...</td>\n",
              "      <td>...</td>\n",
              "      <td>...</td>\n",
              "      <td>...</td>\n",
              "      <td>...</td>\n",
              "      <td>...</td>\n",
              "    </tr>\n",
              "    <tr>\n",
              "      <th>2021-08-18</th>\n",
              "      <td>46970.761719</td>\n",
              "      <td>43998.316406</td>\n",
              "      <td>44741.882812</td>\n",
              "      <td>46717.578125</td>\n",
              "      <td>3.720431e+10</td>\n",
              "      <td>46717.578125</td>\n",
              "    </tr>\n",
              "    <tr>\n",
              "      <th>2021-08-19</th>\n",
              "      <td>49342.152344</td>\n",
              "      <td>46650.707031</td>\n",
              "      <td>46723.121094</td>\n",
              "      <td>49339.175781</td>\n",
              "      <td>3.470687e+10</td>\n",
              "      <td>49339.175781</td>\n",
              "    </tr>\n",
              "    <tr>\n",
              "      <th>2021-08-20</th>\n",
              "      <td>49717.019531</td>\n",
              "      <td>48312.199219</td>\n",
              "      <td>49327.074219</td>\n",
              "      <td>48905.492188</td>\n",
              "      <td>4.058521e+10</td>\n",
              "      <td>48905.492188</td>\n",
              "    </tr>\n",
              "    <tr>\n",
              "      <th>2021-08-21</th>\n",
              "      <td>49471.609375</td>\n",
              "      <td>48199.941406</td>\n",
              "      <td>48869.105469</td>\n",
              "      <td>49321.652344</td>\n",
              "      <td>2.537098e+10</td>\n",
              "      <td>49321.652344</td>\n",
              "    </tr>\n",
              "    <tr>\n",
              "      <th>2021-08-23</th>\n",
              "      <td>50461.300781</td>\n",
              "      <td>49164.847656</td>\n",
              "      <td>49351.011719</td>\n",
              "      <td>49170.902344</td>\n",
              "      <td>3.289965e+10</td>\n",
              "      <td>49170.902344</td>\n",
              "    </tr>\n",
              "  </tbody>\n",
              "</table>\n",
              "<p>2058 rows × 6 columns</p>\n",
              "</div>"
            ],
            "text/plain": [
              "                    High           Low  ...        Volume     Adj Close\n",
              "Date                                    ...                            \n",
              "2016-01-01    436.246002    427.515015  ...  3.627890e+07    434.334015\n",
              "2016-01-02    436.062012    431.869995  ...  3.009660e+07    433.437988\n",
              "2016-01-03    433.743011    424.705994  ...  3.963380e+07    430.010986\n",
              "2016-01-04    434.516998    429.084015  ...  3.847750e+07    433.091003\n",
              "2016-01-05    434.182007    429.675995  ...  3.452260e+07    431.959991\n",
              "...                  ...           ...  ...           ...           ...\n",
              "2021-08-18  46970.761719  43998.316406  ...  3.720431e+10  46717.578125\n",
              "2021-08-19  49342.152344  46650.707031  ...  3.470687e+10  49339.175781\n",
              "2021-08-20  49717.019531  48312.199219  ...  4.058521e+10  48905.492188\n",
              "2021-08-21  49471.609375  48199.941406  ...  2.537098e+10  49321.652344\n",
              "2021-08-23  50461.300781  49164.847656  ...  3.289965e+10  49170.902344\n",
              "\n",
              "[2058 rows x 6 columns]"
            ]
          },
          "metadata": {},
          "execution_count": 60
        }
      ]
    },
    {
      "cell_type": "code",
      "metadata": {
        "id": "6NZIoMenjzVa"
      },
      "source": [
        "data.drop_duplicates(inplace=True)"
      ],
      "execution_count": 61,
      "outputs": []
    },
    {
      "cell_type": "code",
      "metadata": {
        "id": "SnbDz7ILjzVb"
      },
      "source": [
        "data.index = my_arr"
      ],
      "execution_count": 62,
      "outputs": []
    },
    {
      "cell_type": "code",
      "metadata": {
        "id": "psFHmCmzjzVc"
      },
      "source": [
        "prev_days = 60"
      ],
      "execution_count": 63,
      "outputs": []
    },
    {
      "cell_type": "code",
      "metadata": {
        "id": "hKWC14sBjzVc"
      },
      "source": [
        "rand= np.random.randint(500,1000)"
      ],
      "execution_count": 64,
      "outputs": []
    },
    {
      "cell_type": "code",
      "metadata": {
        "id": "HhkvfgPzjzVd"
      },
      "source": [
        "random.seed(77)\n",
        "array = list()\n",
        "for i in range(300):\n",
        "    temp = random.random()\n",
        "    array.append(int(temp*1000))"
      ],
      "execution_count": 65,
      "outputs": []
    },
    {
      "cell_type": "code",
      "metadata": {
        "collapsed": true,
        "id": "m97klaTgjzVd"
      },
      "source": [
        "array"
      ],
      "execution_count": null,
      "outputs": []
    },
    {
      "cell_type": "code",
      "metadata": {
        "id": "f-yfFienjzVe"
      },
      "source": [
        "train_X_dict = dict()\n",
        "for i in array:\n",
        "    train_X_dict[i] = data[i-60:i].values\n",
        "    \n",
        "    "
      ],
      "execution_count": 130,
      "outputs": []
    },
    {
      "cell_type": "code",
      "metadata": {
        "id": "cU6w1DOijzVe"
      },
      "source": [
        "train_X_dict[799]"
      ],
      "execution_count": null,
      "outputs": []
    },
    {
      "cell_type": "code",
      "metadata": {
        "id": "khEB0i6tjzVe",
        "colab": {
          "base_uri": "https://localhost:8080/"
        },
        "outputId": "347114db-c698-412a-ba20-8cbbf0f14fa2"
      },
      "source": [
        " train_X_dict.keys()"
      ],
      "execution_count": 69,
      "outputs": [
        {
          "output_type": "execute_result",
          "data": {
            "text/plain": [
              "dict_keys([799, 325, 240, 822, 115, 476, 557, 611, 145, 630, 500, 851, 28, 957, 172, 813, 507, 835, 182, 321, 87, 778, 533, 204, 191, 80, 200, 560, 437, 704, 76, 839, 982, 739, 743, 849, 94, 461, 79, 781, 537, 106, 444, 776, 552, 121, 936, 56, 843, 974, 751, 945, 530, 219, 472, 738, 768, 384, 947, 35, 495, 39, 358, 989, 117, 985, 905, 688, 55, 471, 691, 95, 298, 91, 915, 923, 750, 575, 62, 481, 760, 755, 26, 8, 88, 924, 113, 390, 475, 883, 135, 261, 771, 85, 164, 25, 958, 233, 501, 379, 981, 712, 601, 489, 267, 103, 621, 295, 276, 453, 189, 591, 70, 18, 141, 89, 878, 510, 678, 779, 165, 951, 460, 488, 695, 193, 828, 428, 251, 864, 872, 858, 323, 913, 775, 970, 754, 999, 478, 749, 524, 504, 400, 868, 378, 746, 561, 706, 309, 78, 675, 359, 48, 911, 588, 677, 22, 720, 586, 639, 823, 270, 160, 968, 60, 515, 623, 955, 86, 702, 620, 848, 47, 748, 148, 404, 850, 4, 31, 780, 38, 784, 807, 817, 633, 824, 542, 668, 69, 550, 990, 388, 714, 178, 541, 769, 322, 468, 577, 939, 386, 659, 556, 195, 696, 211, 613, 994, 306, 339, 644, 213, 354, 225, 158, 670, 831, 526, 446, 302, 239, 942, 479, 681, 279, 173, 9, 419, 521, 616, 876, 801, 687, 804, 893, 385, 867, 429, 24, 594, 946, 438, 870, 680, 20, 330, 971, 656, 597, 859, 350, 146, 445, 908, 492, 294, 357, 92, 907, 255, 789, 426, 509, 431, 638, 933, 482])"
            ]
          },
          "metadata": {},
          "execution_count": 69
        }
      ]
    },
    {
      "cell_type": "code",
      "metadata": {
        "id": "qMylz2NYjzVf"
      },
      "source": [
        "train_Y_dict = dict()\n",
        "for i in array:\n",
        "    train_Y_dict[i] = data['Close'][i]"
      ],
      "execution_count": 70,
      "outputs": []
    },
    {
      "cell_type": "code",
      "metadata": {
        "id": "CU8ngh52jzVf",
        "colab": {
          "base_uri": "https://localhost:8080/"
        },
        "outputId": "515cece6-b92f-457b-8281-b41f5b5861b3"
      },
      "source": [
        "train_Y_dict[799]"
      ],
      "execution_count": 71,
      "outputs": [
        {
          "output_type": "execute_result",
          "data": {
            "text/plain": [
              "8866.0"
            ]
          },
          "metadata": {},
          "execution_count": 71
        }
      ]
    },
    {
      "cell_type": "code",
      "metadata": {
        "id": "9FPo3gosjzVf"
      },
      "source": [
        "train_X = list()\n",
        "for i in train_X_dict.keys():\n",
        "    train_X.append(train_X_dict[i])\n",
        "    "
      ],
      "execution_count": 72,
      "outputs": []
    },
    {
      "cell_type": "code",
      "metadata": {
        "id": "2CLxp7eDjzVg"
      },
      "source": [
        "train_Y = list()\n",
        "for i in train_Y_dict.keys():\n",
        "    train_Y.append(train_Y_dict[i])"
      ],
      "execution_count": 73,
      "outputs": []
    },
    {
      "cell_type": "code",
      "metadata": {
        "id": "74IixDkFjzVg"
      },
      "source": [
        "x = list(train_X)"
      ],
      "execution_count": 74,
      "outputs": []
    },
    {
      "cell_type": "code",
      "metadata": {
        "id": "iVT6sJMtjzVg"
      },
      "source": [
        "X_list = list()\n",
        "for i in train_X:\n",
        "    temp_list = list()\n",
        "    for j in i:\n",
        "        temp_list.extend(tuple(j))\n",
        "    X_list.append(temp_list)\n",
        "    \n",
        "        \n",
        "    "
      ],
      "execution_count": 75,
      "outputs": []
    },
    {
      "cell_type": "code",
      "metadata": {
        "id": "NBrYHFP-jzVh",
        "colab": {
          "base_uri": "https://localhost:8080/"
        },
        "outputId": "6a5c8709-e866-49fa-9186-ba91a8ca6368"
      },
      "source": [
        "len(X_list[0])"
      ],
      "execution_count": 76,
      "outputs": [
        {
          "output_type": "execute_result",
          "data": {
            "text/plain": [
              "360"
            ]
          },
          "metadata": {},
          "execution_count": 76
        }
      ]
    },
    {
      "cell_type": "code",
      "metadata": {
        "id": "6WMa7JVrjzVh"
      },
      "source": [
        "X_list[0]"
      ],
      "execution_count": null,
      "outputs": []
    },
    {
      "cell_type": "code",
      "metadata": {
        "id": "u_906PfAjzVh",
        "colab": {
          "base_uri": "https://localhost:8080/"
        },
        "outputId": "7b2e02c3-f8ae-47fc-8771-4a418b0bee2a"
      },
      "source": [
        "train_Y[-1]"
      ],
      "execution_count": 129,
      "outputs": [
        {
          "output_type": "execute_result",
          "data": {
            "text/plain": [
              "1317.72998046875"
            ]
          },
          "metadata": {},
          "execution_count": 129
        }
      ]
    },
    {
      "cell_type": "code",
      "metadata": {
        "id": "-i9BIoEnjzVi",
        "colab": {
          "base_uri": "https://localhost:8080/"
        },
        "outputId": "900320e0-40ac-484d-eeb3-01f2a2293f1d"
      },
      "source": [
        "len(X_list[0])"
      ],
      "execution_count": 79,
      "outputs": [
        {
          "output_type": "execute_result",
          "data": {
            "text/plain": [
              "360"
            ]
          },
          "metadata": {},
          "execution_count": 79
        }
      ]
    },
    {
      "cell_type": "code",
      "metadata": {
        "id": "3iiJMY-0jzVi",
        "colab": {
          "base_uri": "https://localhost:8080/"
        },
        "outputId": "61f19775-67f4-4138-9dfa-ba0a97a53d51"
      },
      "source": [
        "len(train_Y)"
      ],
      "execution_count": 80,
      "outputs": [
        {
          "output_type": "execute_result",
          "data": {
            "text/plain": [
              "267"
            ]
          },
          "metadata": {},
          "execution_count": 80
        }
      ]
    },
    {
      "cell_type": "code",
      "metadata": {
        "id": "NfQEbE5vjzVi"
      },
      "source": [
        "my_list = []\n",
        "for i in range(len(X_list)):\n",
        "    if not(len(X_list[i]) == 0) :\n",
        "        my_list.append(X_list[i])\n",
        "    else:\n",
        "        train_Y.pop(i)\n",
        "\n",
        "        \n",
        "    "
      ],
      "execution_count": 81,
      "outputs": []
    },
    {
      "cell_type": "code",
      "metadata": {
        "id": "vRkpFwETjzVi"
      },
      "source": [
        "from xgboost import XGBRegressor"
      ],
      "execution_count": 82,
      "outputs": []
    },
    {
      "cell_type": "code",
      "metadata": {
        "id": "fIFe_q-ujzVj"
      },
      "source": [
        "regressor = XGBRegressor()"
      ],
      "execution_count": 83,
      "outputs": []
    },
    {
      "cell_type": "code",
      "metadata": {
        "id": "6PD0jwIyjzVj"
      },
      "source": [
        "from sklearn.ensemble import GradientBoostingRegressor\n",
        "alpha = 0.95\n",
        "regressor = GradientBoostingRegressor(loss='ls', alpha=alpha,\n",
        "                                n_estimators=400, max_depth=4,\n",
        "                                learning_rate=0.05)"
      ],
      "execution_count": 84,
      "outputs": []
    },
    {
      "cell_type": "code",
      "metadata": {
        "id": "sV31hrKujzVj",
        "colab": {
          "base_uri": "https://localhost:8080/"
        },
        "outputId": "fb107bac-34eb-4891-85e9-9af7a17e8dde"
      },
      "source": [
        "regressor.fit(np.array(my_list),train_Y)"
      ],
      "execution_count": 85,
      "outputs": [
        {
          "output_type": "execute_result",
          "data": {
            "text/plain": [
              "GradientBoostingRegressor(alpha=0.95, ccp_alpha=0.0, criterion='friedman_mse',\n",
              "                          init=None, learning_rate=0.05, loss='ls', max_depth=4,\n",
              "                          max_features=None, max_leaf_nodes=None,\n",
              "                          min_impurity_decrease=0.0, min_impurity_split=None,\n",
              "                          min_samples_leaf=1, min_samples_split=2,\n",
              "                          min_weight_fraction_leaf=0.0, n_estimators=400,\n",
              "                          n_iter_no_change=None, presort='deprecated',\n",
              "                          random_state=None, subsample=1.0, tol=0.0001,\n",
              "                          validation_fraction=0.1, verbose=0, warm_start=False)"
            ]
          },
          "metadata": {},
          "execution_count": 85
        }
      ]
    },
    {
      "cell_type": "code",
      "metadata": {
        "id": "lKJ5AkQDjzVj",
        "colab": {
          "base_uri": "https://localhost:8080/",
          "height": 550
        },
        "outputId": "8751707a-5ec8-4062-e9e6-bf54ded4e0d0"
      },
      "source": [
        "import matplotlib.pyplot\n",
        "from matplotlib.pyplot import figure\n",
        "figure(figsize=(12, 8), dpi=80)\n",
        "plt.plot(regressor.feature_importances_)"
      ],
      "execution_count": 86,
      "outputs": [
        {
          "output_type": "execute_result",
          "data": {
            "text/plain": [
              "[<matplotlib.lines.Line2D at 0x7f8f58f2fc10>]"
            ]
          },
          "metadata": {},
          "execution_count": 86
        },
        {
          "output_type": "display_data",
          "data": {
            "image/png": "[encoded data removed]",
            "text/plain": [
              "<Figure size 960x640 with 1 Axes>"
            ]
          },
          "metadata": {
            "needs_background": "light"
          }
        }
      ]
    },
    {
      "cell_type": "code",
      "metadata": {
        "id": "JGYgkx2hjzVk"
      },
      "source": [
        "predictions = regressor.predict(np.array(my_list))"
      ],
      "execution_count": 87,
      "outputs": []
    },
    {
      "cell_type": "code",
      "metadata": {
        "id": "kqRM4ExljzVk",
        "colab": {
          "base_uri": "https://localhost:8080/"
        },
        "outputId": "dd92a2c0-0722-4d99-ff2b-0ec98e3f5392"
      },
      "source": [
        "sklearn.metrics.mean_absolute_error(train_Y, predictions)"
      ],
      "execution_count": 88,
      "outputs": [
        {
          "output_type": "execute_result",
          "data": {
            "text/plain": [
              "45.7559921951494"
            ]
          },
          "metadata": {},
          "execution_count": 88
        }
      ]
    },
    {
      "cell_type": "code",
      "metadata": {
        "id": "W_BC6YTFjzVk"
      },
      "source": [
        "for i in range(len(train_Y)):\n",
        "  print(train_Y[i], end = \" \")\n",
        "  print(train_Y[i]- predictions[i])"
      ],
      "execution_count": null,
      "outputs": []
    },
    {
      "cell_type": "code",
      "metadata": {
        "id": "N8QzFeW7jzVl"
      },
      "source": [
        "start = dt.datetime(2021, 6, 24)\n",
        "end = dt.datetime.now()\n",
        "testData = data[500-59:501].values"
      ],
      "execution_count": 136,
      "outputs": []
    },
    {
      "cell_type": "code",
      "metadata": {
        "id": "F8f8nVCBm4ad"
      },
      "source": [
        "# test_X_list = list()\n",
        "# for i in testData:\n",
        "#     temp_list = list()\n",
        "#     for j in i:\n",
        "#         temp_list.extend(tuple(j))\n",
        "#     test_X_list.append(temp_list)"
      ],
      "execution_count": 137,
      "outputs": []
    },
    {
      "cell_type": "code",
      "metadata": {
        "id": "w1eoldg2n7vm"
      },
      "source": [
        "test_list = []\n",
        "for i in testData:\n",
        "  test_list.extend(i)"
      ],
      "execution_count": 138,
      "outputs": []
    },
    {
      "cell_type": "code",
      "metadata": {
        "colab": {
          "base_uri": "https://localhost:8080/"
        },
        "id": "PyKqrbMNo5Yk",
        "outputId": "39aefa0a-f65a-41d1-c0f1-c3ab434c6530"
      },
      "source": [
        "regressor.predict(np.array(test_list).reshape(1, 360))"
      ],
      "execution_count": 139,
      "outputs": [
        {
          "output_type": "execute_result",
          "data": {
            "text/plain": [
              "array([650.70037284])"
            ]
          },
          "metadata": {},
          "execution_count": 139
        }
      ]
    },
    {
      "cell_type": "code",
      "metadata": {
        "colab": {
          "base_uri": "https://localhost:8080/"
        },
        "id": "hhhY-IxhpAQ8",
        "outputId": "3d4a2384-d4c6-471a-cc6e-3b1f9f0d3c04"
      },
      "source": [
        "data['Close'][502]"
      ],
      "execution_count": 141,
      "outputs": [
        {
          "output_type": "execute_result",
          "data": {
            "text/plain": [
              "1839.0899658203125"
            ]
          },
          "metadata": {},
          "execution_count": 141
        }
      ]
    },
    {
      "cell_type": "code",
      "metadata": {
        "id": "xroh-EWjp5o1"
      },
      "source": [
        "data['Close'][500-59:501]"
      ],
      "execution_count": null,
      "outputs": []
    },
    {
      "cell_type": "code",
      "metadata": {
        "id": "5tOW4FqSrcix"
      },
      "source": [
        ""
      ],
      "execution_count": null,
      "outputs": []
    }
  ]
}